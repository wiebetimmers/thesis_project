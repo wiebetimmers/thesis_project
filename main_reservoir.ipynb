{
 "cells": [
  {
   "cell_type": "markdown",
   "metadata": {},
   "source": [
    "# Reservoir model - no full backpropagation\n",
    "\n",
    "- Using an echo state network, see summary for details. \n",
    "- Performing classification on the Digits dataset from sklearn.\n",
    "- Results measured in logg loss (sum) and accuracy. \n",
    "\n",
    "Questions i still have\n",
    "- I very explicitly implemented the model as how it is stated on the planner. \n",
    "    - Still figuring if using Linear Layers (though, with recurrent input) is the correct way of implementation.\n",
    "- Comparing the RNN (2 layers with softmax activation)and the Recurrent reservoir, the sum loss seems way lower with the reservoir model. How is that possible. Is that because the weights are differently initialized? \n",
    "- It seems that the bias parameters are still trained, is this desirable?\n"
   ]
  },
  {
   "cell_type": "code",
   "execution_count": 1,
   "metadata": {},
   "outputs": [],
   "source": [
    "import matplotlib.pyplot as plt\n",
    "import torch\n",
    "import torch.nn as nn\n",
    "import torch.nn.functional as F\n",
    "import torch.optim as optim\n",
    "from sklearn.datasets import load_digits\n",
    "from sklearn import datasets\n",
    "import numpy as np\n",
    "import os, sys, tarfile\n",
    "import requests\n",
    "import shutil\n",
    "import torchvision\n",
    "import numpy as np\n",
    "from PIL import Image\n",
    "from torchvision import transforms\n",
    "from torch.utils.data import random_split\n",
    "from torch.utils.data import Dataset, DataLoader\n",
    "from torch.utils.data.sampler import SubsetRandomSampler\n",
    "import random\n",
    "from pytorch_model_summary import summary"
   ]
  },
  {
   "cell_type": "markdown",
   "metadata": {},
   "source": [
    "### The Digits Dataset:"
   ]
  },
  {
   "cell_type": "code",
   "execution_count": 2,
   "metadata": {},
   "outputs": [],
   "source": [
    "class Digits(Dataset):\n",
    "    \"\"\"Scikit-Learn Digits dataset.\"\"\"\n",
    "\n",
    "    def __init__(self, mode='train', transforms=None):\n",
    "        digits = load_digits()\n",
    "        if mode == 'train':\n",
    "            self.data = digits.data[:1000].astype(np.float32)\n",
    "            self.targets = digits.target[:1000]\n",
    "        elif mode == 'val':\n",
    "            self.data = digits.data[1000:1350].astype(np.float32)\n",
    "            self.targets = digits.target[1000:1350]\n",
    "        else:\n",
    "            self.data = digits.data[1350:].astype(np.float32)\n",
    "            self.targets = digits.target[1350:]\n",
    "        self.transforms = transforms\n",
    "        self.target_names = digits.target_names\n",
    "\n",
    "    def __len__(self):\n",
    "        return len(self.data)\n",
    "\n",
    "    def __getitem__(self, idx):\n",
    "        sample_x = self.data[idx]\n",
    "        sample_y = self.targets[idx]\n",
    "        if self.transforms:\n",
    "            sample_x = self.transforms(sample_x)\n",
    "        return (sample_x, sample_y)"
   ]
  },
  {
   "cell_type": "code",
   "execution_count": 3,
   "metadata": {},
   "outputs": [],
   "source": [
    "# Initiliazing the data loaders for the digits dataset. \n",
    "\n",
    "train_data = Digits(mode='train')\n",
    "val_data = Digits(mode='val')\n",
    "test_data = Digits(mode='test')\n",
    "\n",
    "LABELS = train_data.target_names\n",
    "\n",
    "train_loader = DataLoader(train_data, batch_size=50, shuffle=True)\n",
    "val_loader = DataLoader(val_data, batch_size=50, shuffle=False)\n",
    "test_loader = DataLoader(test_data, batch_size=50, shuffle=False)\n",
    "\n",
    "result_dir = 'results_reservoir_wiebe/'\n",
    "if not(os.path.exists(result_dir)):\n",
    "    os.mkdir(result_dir)"
   ]
  },
  {
   "cell_type": "code",
   "execution_count": 4,
   "metadata": {},
   "outputs": [
    {
     "name": "stdout",
     "output_type": "stream",
     "text": [
      "6\n"
     ]
    },
    {
     "data": {
      "text/plain": [
       "<matplotlib.image.AxesImage at 0x241b3fadbb0>"
      ]
     },
     "execution_count": 4,
     "metadata": {},
     "output_type": "execute_result"
    },
    {
     "data": {
      "image/png": "[encoded data removed]",
      "text/plain": [
       "<Figure size 432x288 with 1 Axes>"
      ]
     },
     "metadata": {
      "needs_background": "light"
     },
     "output_type": "display_data"
    }
   ],
   "source": [
    "# Print an example digit and its according target label. - (digits dataset)\n",
    "\n",
    "print(train_data.targets[88])\n",
    "plottable_image = np.reshape(train_data.data[88], (8, 8))\n",
    "plt.imshow(plottable_image, cmap='gray')"
   ]
  },
  {
   "cell_type": "code",
   "execution_count": 5,
   "metadata": {},
   "outputs": [],
   "source": [
    "class Reservoir(nn.Module):\n",
    "    def __init__(self, input_size, reservoir_size, output_size):\n",
    "        super(Reservoir, self).__init__()\n",
    "        self.f_0 = nn.Softmax(dim=1)\n",
    "        self.f_t = nn.Softmax(dim=1)\n",
    "        self.f_y = nn.Softmax(dim=1)\n",
    "        \n",
    "        # Sample the initial weights from a uniform distribution\n",
    "        self.W_in = nn.Parameter(data = torch.zeros(reservoir_size, input_size, requires_grad=False))\n",
    "        self.W_in.data.uniform_(-1, 1)\n",
    "        \n",
    "        self.W_r = nn.Parameter(data = torch.zeros(reservoir_size, reservoir_size), requires_grad=False)\n",
    "        self.W_r.data.uniform_(-1, 1)\n",
    "        \n",
    "        self.W_out = nn.Parameter(data = torch.zeros(output_size, reservoir_size), requires_grad=True)\n",
    "        self.W_out.data.uniform_(-1, 1)\n",
    "        \n",
    "        self.U = nn.Parameter(data = torch.zeros(reservoir_size, input_size), requires_grad=False)\n",
    "        self.U.data.uniform_(-1, 1)\n",
    "        \n",
    "        # Layer only used for C_0, initial weight!\n",
    "        self.layer1 = torch.nn.Linear(input_size, reservoir_size, bias=True)\n",
    "        self.layer1.weight = self.W_in\n",
    "        #Making sure we do not calc the gradient of our input layer! only for output. \n",
    "        self.layer1.weight.requires_grad = False\n",
    "        \n",
    "        self.layer2 = torch.nn.Linear(reservoir_size, reservoir_size, bias=True)\n",
    "        self.layer2.weight = self.W_r\n",
    "        \n",
    "        self.layer3 = torch.nn.Linear(input_size, reservoir_size, bias=True)\n",
    "        self.layer3.weight = self.U\n",
    "        \n",
    "        self.layer4 = torch.nn.Linear(2*reservoir_size, output_size, bias=True)\n",
    "        self.layer4.weight = self.W_out\n",
    "        \n",
    "\n",
    "    def forward(self, input_state, t, prev_c):\n",
    "        \n",
    "        # If we have the first batch, calculate c_0 = f_0(W_in * x_t)\n",
    "        if t == 1:\n",
    "            prev_c = self.init_C(input_state)\n",
    "        \n",
    "        # Not the first batch? -> use output from previous state!\n",
    "        # W_r * c_t_1\n",
    "        output_lin_2 = self.layer2(prev_c)\n",
    "        \n",
    "        # U * x_t\n",
    "        output_lin_3 = self.layer3(input_state)\n",
    "        \n",
    "        # Calculate new c_t -  f_t (W_r * c_t-1 + U * x_t)\n",
    "        c_t = self.f_t(output_lin_2 + output_lin_3)\n",
    "        \n",
    "        # Calculate output - f_y ( W_out * c_t)\n",
    "        y = self.f_y(self.layer4(c_t))\n",
    "    \n",
    "        return y, c_t\n",
    "    \n",
    "    def init_C(self, input_state):\n",
    "        output_linear_layer1 = self.layer1(input_state)\n",
    "        c_0 = self.f_0(output_linear_layer1)\n",
    "        return c_0\n",
    "    "
   ]
  },
  {
   "cell_type": "code",
   "execution_count": 6,
   "metadata": {},
   "outputs": [],
   "source": [
    "# Function that transforms the tensor output to a predicted target name. \n",
    "def categoryFromOutput(output):\n",
    "    top_n, top_i = output.topk(1)\n",
    "    category_i = top_i[0].item()\n",
    "    return LABELS[category_i]\n",
    "\n",
    "# Plot both accuracy as log loss. \n",
    "def plot_results(epochs, loss, accuracy):\n",
    "    fig, (ax1, ax2) = plt.subplots(2)\n",
    "    fig.suptitle('Results Reservoir - Only output is trained.')\n",
    "    ax1.set(ylabel='Loss')\n",
    "    ax2.set(ylabel='Accuracy', xlabel='Epochs')\n",
    "    \n",
    "    ax1.plot(epochs, loss)\n",
    "    ax2.plot(epochs, accuracy)\n",
    "    \n",
    "\n",
    "    plt.savefig('results_reservoir.png', bbox_inches='tight')\n",
    "    #plt.close()\n",
    "\n",
    "\n",
    "# Concatenating the results of all (64*)batches in the lists, calculating the total accuracy. \n",
    "def accuracy(pred_targets_list, gold_targets_list):\n",
    "    total_correct = 0\n",
    "    total_amount = 0\n",
    "    \n",
    "    zip_list = zip(pred_targets_list, gold_targets_list)\n",
    "    for pred_targets, gold_targets in zip_list:\n",
    "        total_correct += (pred_targets == gold_targets).float().sum()\n",
    "        total_amount += len(pred_targets)\n",
    "    \n",
    "    accuracy = 100 * total_correct / total_amount\n",
    "\n",
    "    return accuracy.item()\n",
    "\n",
    "# Evaluation -> used for validation and test set. \n",
    "def evaluation(val_loader, model, epoch, loss_function):\n",
    "    \n",
    "    #Evaluating our performance so far\n",
    "    model.eval()\n",
    "    \n",
    "    # Store all results in a list to calculate the accuracy. \n",
    "    pred_target_total_acc = []\n",
    "    target_total_acc = []\n",
    "    \n",
    "    # Initliaze dataset size and loss\n",
    "    loss = 0.\n",
    "    N = 0.\n",
    "    prev_c = 0\n",
    "    t = 1\n",
    "    \n",
    "    # Iterating over the validation set batches, acquiring tensor formatted results. \n",
    "    for indx_batch, (batch, targets) in enumerate(val_loader):\n",
    "        output, new_c = model.forward(batch, t, prev_c)\n",
    "        pred_targets = np.array([])\n",
    "        for item in output:\n",
    "            pred_targets = np.append(pred_targets, categoryFromOutput(item))\n",
    "        pred_targets = torch.from_numpy(pred_targets).int()\n",
    "        \n",
    "        # Calculating loss\n",
    "        loss_t = loss_function(output, targets.long())\n",
    "        loss = loss + loss_t.item()\n",
    "        N = N + batch.shape[0]\n",
    "        \n",
    "        #Append the batch result to a list of all results\n",
    "        pred_target_total_acc.append(pred_targets)\n",
    "        target_total_acc.append(targets)\n",
    "    \n",
    "    # Store the loss corrected by its size\n",
    "    loss = loss / N   \n",
    "        \n",
    "    total_accuracy = accuracy(pred_target_total_acc, target_total_acc)\n",
    "    print('Epoch: %s - Loss of: %s - Accuracy of: %s' %(epoch, loss,total_accuracy))\n",
    "    \n",
    "    return epoch, loss, total_accuracy"
   ]
  },
  {
   "cell_type": "code",
   "execution_count": 8,
   "metadata": {},
   "outputs": [],
   "source": [
    "def training(model, train_loader, val_loader, num_epochs, optimizer, loss_function, max_loss_iter):    \n",
    "    \n",
    "    print('Training started for %s epochs.'  %(num_epochs))\n",
    "    epochs = []\n",
    "    accuracy_results = []\n",
    "    loss_results = []\n",
    "    best_loss = 10000 # Picking random high number to assure correct functionality\n",
    "    loss_iter = 0\n",
    "\n",
    "    t = 1\n",
    "    prev_c = 0\n",
    "\n",
    "    for epoch in range(num_epochs):\n",
    "\n",
    "        # Training\n",
    "        model.train()\n",
    "        for indx_batch, (batch, targets) in enumerate(train_loader):\n",
    "\n",
    "            output, new_c = model.forward(batch, t, prev_c)\n",
    "\n",
    "            targets = targets.long()\n",
    "\n",
    "            loss = loss_function(output, targets)\n",
    "\n",
    "            optimizer.zero_grad()\n",
    "\n",
    "            loss.backward(retain_graph = True)\n",
    "            optimizer.step()\n",
    "\n",
    "            prev_c =  new_c\n",
    "\n",
    "            t += 1\n",
    "\n",
    "        epoch, loss_eval, accuracy_eval = evaluation(val_loader, model, epoch, loss_function)\n",
    "        epochs.append(epoch)\n",
    "        accuracy_results.append(accuracy_eval)\n",
    "        loss_results.append(loss_eval)\n",
    "\n",
    "        if epoch == 0:\n",
    "            print('* Saving 1st epoch model *')\n",
    "            torch.save(model, 'trained_reservoir.model')\n",
    "            best_loss = loss_eval\n",
    "        else:\n",
    "            if loss_eval < best_loss:\n",
    "                print('* Saving new best model *')\n",
    "                torch.save(model, 'trained_reservoir.model')\n",
    "                best_loss = loss_eval\n",
    "                loss_iter = 0\n",
    "            else:\n",
    "                loss_iter += 1\n",
    "\n",
    "            # If loss has not improved for an arbitrary amount of epochs:\n",
    "        if loss_iter > max_loss_iter:\n",
    "            break\n",
    "\n",
    "    plot_results(epochs, loss_results, accuracy_results)\n",
    "\n",
    "    return model\n",
    "\n",
    "    "
   ]
  },
  {
   "cell_type": "code",
   "execution_count": 9,
   "metadata": {},
   "outputs": [],
   "source": [
    "input_size = 64\n",
    "reservoir_size = 128\n",
    "n_labels = 10\n",
    "lr_SGD = 0.01\n",
    "momentum_SGD = 0.9\n",
    "n_epochs = 5\n",
    "max_loss_iter = 10\n",
    "\n",
    "model = Reservoir(input_size, reservoir_size, n_labels)\n",
    "optimizer = optim.SGD([p for p in model.parameters() if p.requires_grad == True], lr=lr_SGD, momentum=momentum_SGD)\n",
    "loss_function = nn.NLLLoss(reduction='sum') # Mean is also possible.\n"
   ]
  },
  {
   "cell_type": "code",
   "execution_count": 10,
   "metadata": {},
   "outputs": [
    {
     "name": "stdout",
     "output_type": "stream",
     "text": [
      "W_out\n",
      "layer1.bias\n",
      "layer2.bias\n",
      "layer3.bias\n",
      "layer4.bias\n"
     ]
    }
   ],
   "source": [
    "# Check all parameters that are trained: should only be W_out!\n",
    "for name, param in model.named_parameters():\n",
    "    if param.requires_grad:\n",
    "        print(name)"
   ]
  },
  {
   "cell_type": "code",
   "execution_count": 11,
   "metadata": {},
   "outputs": [
    {
     "name": "stdout",
     "output_type": "stream",
     "text": [
      "Training started for 5 epochs.\n",
      "Epoch: 0 - Loss of: -0.1293219770703997 - Accuracy of: 23.714284896850586\n",
      "* Saving 1st epoch model *\n",
      "Epoch: 1 - Loss of: -0.18713386808122906 - Accuracy of: 24.571428298950195\n",
      "* Saving new best model *\n",
      "Epoch: 2 - Loss of: -0.2298577962602888 - Accuracy of: 28.0\n",
      "* Saving new best model *\n",
      "Epoch: 3 - Loss of: -0.25342300142560686 - Accuracy of: 29.428571701049805\n",
      "* Saving new best model *\n",
      "Epoch: 4 - Loss of: -0.26754394803728376 - Accuracy of: 29.14285659790039\n",
      "* Saving new best model *\n"
     ]
    },
    {
     "data": {
      "image/png": "[encoded data removed]",
      "text/plain": [
       "<Figure size 432x288 with 2 Axes>"
      ]
     },
     "metadata": {
      "needs_background": "light"
     },
     "output_type": "display_data"
    }
   ],
   "source": [
    "trained_model = training(model, train_loader, val_loader, n_epochs, optimizer, loss_function, max_loss_iter)"
   ]
  },
  {
   "cell_type": "code",
   "execution_count": 13,
   "metadata": {},
   "outputs": [
    {
     "name": "stdout",
     "output_type": "stream",
     "text": [
      "-----------------------------------------------------------------------\n",
      "      Layer (type)         Input Shape         Param #     Tr. Param #\n",
      "=======================================================================\n",
      "          Linear-1             [1, 64]           8,320             128\n",
      "         Softmax-2            [1, 128]               0               0\n",
      "          Linear-3            [1, 128]          16,512             128\n",
      "          Linear-4             [1, 64]           8,320             128\n",
      "         Softmax-5            [1, 128]               0               0\n",
      "          Linear-6            [1, 128]           1,290           1,290\n",
      "         Softmax-7             [1, 10]               0               0\n",
      "=======================================================================\n",
      "Total params: 34,442\n",
      "Trainable params: 1,674\n",
      "Non-trainable params: 32,768\n",
      "-----------------------------------------------------------------------\n"
     ]
    }
   ],
   "source": [
    "# Prev_c input is required, but not used in T = 1\n",
    "prev_c = 0\n",
    "print(summary(model, torch.zeros(1, 64), 1, prev_c, show_input=True, show_hierarchical=False))"
   ]
  },
  {
   "cell_type": "code",
   "execution_count": 14,
   "metadata": {},
   "outputs": [
    {
     "name": "stdout",
     "output_type": "stream",
     "text": [
      "Epoch: Final score - Loss of: -0.25124096177035 - Accuracy of: 26.845638275146484\n"
     ]
    }
   ],
   "source": [
    "\n",
    "test_result = evaluation(test_loader, trained_model, 'Final score', loss_function)"
   ]
  },
  {
   "cell_type": "code",
   "execution_count": null,
   "metadata": {},
   "outputs": [],
   "source": []
  }
 ],
 "metadata": {
  "kernelspec": {
   "display_name": "Python 3",
   "language": "python",
   "name": "python3"
  },
  "language_info": {
   "codemirror_mode": {
    "name": "ipython",
    "version": 3
   },
   "file_extension": ".py",
   "mimetype": "text/x-python",
   "name": "python",
   "nbconvert_exporter": "python",
   "pygments_lexer": "ipython3",
   "version": "3.8.5"
  }
 },
 "nbformat": 4,
 "nbformat_minor": 4
}
