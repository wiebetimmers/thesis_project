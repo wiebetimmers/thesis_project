{
 "cells": [
  {
   "cell_type": "markdown",
   "metadata": {},
   "source": [
    "# Reservoir model - only output is trained\n",
    "\n",
    "- Implemented a recurrent reservoir model, see summary(model) below for details on the layers. \n",
    "- Performing classification on the Digits dataset from sklearn.\n",
    "- Results measured in logg loss (sum) and accuracy. \n",
    "\n",
    "Questions i still have:\n",
    "- What parameters should be kept constant? (e.g. learning rate, momentum sgd, batch size ) - are these also considered for evolutionairy optimization? \n"
   ]
  },
  {
   "cell_type": "code",
   "execution_count": 59,
   "metadata": {},
   "outputs": [],
   "source": [
    "import matplotlib.pyplot as plt\n",
    "import torch\n",
    "import torch.nn as nn\n",
    "import torch.nn.functional as F\n",
    "import torch.optim as optim\n",
    "from sklearn.datasets import load_digits\n",
    "from sklearn import datasets\n",
    "import numpy as np\n",
    "import os, sys, tarfile\n",
    "import requests\n",
    "import shutil\n",
    "import torchvision\n",
    "import numpy as np\n",
    "from PIL import Image\n",
    "from torchvision import transforms\n",
    "from torch.utils.data import random_split\n",
    "from torch.utils.data import Dataset, DataLoader\n",
    "from torch.utils.data.sampler import SubsetRandomSampler\n",
    "import random\n",
    "from pytorch_model_summary import summary"
   ]
  },
  {
   "cell_type": "markdown",
   "metadata": {},
   "source": [
    "### The Digits Dataset:"
   ]
  },
  {
   "cell_type": "code",
   "execution_count": 60,
   "metadata": {},
   "outputs": [],
   "source": [
    "class Digits(Dataset):\n",
    "    \"\"\"Scikit-Learn Digits dataset.\"\"\"\n",
    "\n",
    "    def __init__(self, mode='train', transforms=None):\n",
    "        digits = load_digits()\n",
    "        if mode == 'train':\n",
    "            self.data = digits.data[:1000].astype(np.float32)\n",
    "            self.targets = digits.target[:1000]\n",
    "        elif mode == 'val':\n",
    "            self.data = digits.data[1000:1350].astype(np.float32)\n",
    "            self.targets = digits.target[1000:1350]\n",
    "        else:\n",
    "            self.data = digits.data[1350:].astype(np.float32)\n",
    "            self.targets = digits.target[1350:]\n",
    "        self.transforms = transforms\n",
    "        self.target_names = digits.target_names\n",
    "\n",
    "    def __len__(self):\n",
    "        return len(self.data)\n",
    "\n",
    "    def __getitem__(self, idx):\n",
    "        sample_x = self.data[idx]\n",
    "        sample_y = self.targets[idx]\n",
    "        if self.transforms:\n",
    "            sample_x = self.transforms(sample_x)\n",
    "        return (sample_x, sample_y)"
   ]
  },
  {
   "cell_type": "code",
   "execution_count": 61,
   "metadata": {},
   "outputs": [],
   "source": [
    "# Initiliazing the data loaders for the digits dataset. \n",
    "\n",
    "train_data_digits = Digits(mode='train')\n",
    "val_data_digits = Digits(mode='val')\n",
    "test_data_digits = Digits(mode='test')\n",
    "\n",
    "LABELS = train_data.target_names\n",
    "\n",
    "train_loader_digits = DataLoader(train_data, batch_size=50, shuffle=True)\n",
    "val_loader_digits = DataLoader(val_data, batch_size=50, shuffle=False)\n",
    "test_loader_digits = DataLoader(test_data, batch_size=50, shuffle=False)\n",
    "\n",
    "result_dir = 'results_baseline_wiebe/'\n",
    "if not(os.path.exists(result_dir)):\n",
    "    os.mkdir(result_dir)"
   ]
  },
  {
   "cell_type": "code",
   "execution_count": 62,
   "metadata": {},
   "outputs": [
    {
     "name": "stdout",
     "output_type": "stream",
     "text": [
      "6\n"
     ]
    },
    {
     "data": {
      "text/plain": [
       "<matplotlib.image.AxesImage at 0x1a324f7a310>"
      ]
     },
     "execution_count": 62,
     "metadata": {},
     "output_type": "execute_result"
    },
    {
     "data": {
      "image/png": "[encoded data removed]",
      "text/plain": [
       "<Figure size 432x288 with 1 Axes>"
      ]
     },
     "metadata": {
      "needs_background": "light"
     },
     "output_type": "display_data"
    }
   ],
   "source": [
    "# Print an example digit and its according target label. - (digits dataset)\n",
    "\n",
    "print(train_data_digits.targets[88])\n",
    "plottable_image = np.reshape(train_data_digits.data[88], (8, 8))\n",
    "plt.imshow(plottable_image, cmap='gray')"
   ]
  },
  {
   "cell_type": "markdown",
   "metadata": {},
   "source": [
    "### The MNIST Dataset:"
   ]
  },
  {
   "cell_type": "code",
   "execution_count": 63,
   "metadata": {},
   "outputs": [],
   "source": [
    "class MNIST(Dataset):\n",
    "    \"\"\"Complete MNIST dataset.\"\"\"\n",
    "\n",
    "    def __init__(self, mode='train', transforms=None):\n",
    "        data_set_train = torchvision.datasets.MNIST('/files/', train=True, download=True,\n",
    "                             transform=torchvision.transforms.Compose([\n",
    "                               torchvision.transforms.ToTensor(),\n",
    "                               torchvision.transforms.Normalize(\n",
    "                                 (0.1307,), (0.3081,))\n",
    "                             ]))\n",
    "\n",
    "        data_set_test = torchvision.datasets.MNIST('/files/', train=False, download=True,\n",
    "                             transform=torchvision.transforms.Compose([\n",
    "                               torchvision.transforms.ToTensor(),\n",
    "                               torchvision.transforms.Normalize(\n",
    "                                 (0.1307,), (0.3081,))\n",
    "                             ]))\n",
    "        self.data = []\n",
    "        self.targets = []\n",
    "        \n",
    "        if mode == 'train':\n",
    "            for i in range(40000):\n",
    "                self.data.append(data_set_train[i][0].numpy())\n",
    "                self.targets.append(data_set_train[i][1])\n",
    "        elif mode == 'val':\n",
    "            for i in range(50000, 60000):\n",
    "                self.data.append(data_set_train[i][0].numpy())\n",
    "                self.targets.append(data_set_train[i][1])\n",
    "        else:\n",
    "            for i in range(len(data_set_test)):\n",
    "                self.data.append(data_set_test[i][0].numpy())\n",
    "                self.targets.append(data_set_test[i][1])\n",
    "        \n",
    "        self.targets = np.array(self.targets)\n",
    "        self.data = np.array(self.data)\n",
    "        self.transforms = transforms\n",
    "\n",
    "    def __len__(self):\n",
    "        return len(self.data)\n",
    "\n",
    "    def __getitem__(self, idx):\n",
    "        sample_x = self.data[idx]\n",
    "        sample_y = self.targets[idx]\n",
    "        if self.transforms:\n",
    "            sample_x = self.transforms(sample_x)\n",
    "        return (sample_x, sample_y)"
   ]
  },
  {
   "cell_type": "code",
   "execution_count": 64,
   "metadata": {},
   "outputs": [],
   "source": [
    "# Load in the MNIST dataset - (takes longer to load than Digits!, 6)\n",
    "train_data_mnist = MNIST(mode='train')\n",
    "val_data_mnist = MNIST(mode='val')\n",
    "test_data_mnist = MNIST(mode='test')\n",
    "\n",
    "train_loader_mnist = DataLoader(train_data_mnist, batch_size=50, shuffle=True)\n",
    "val_loader_mnist = DataLoader(val_data_mnist, batch_size=50, shuffle=True)\n",
    "test_loader_mnist = DataLoader(test_data_mnist, batch_size=50, shuffle=True)"
   ]
  },
  {
   "cell_type": "code",
   "execution_count": 65,
   "metadata": {},
   "outputs": [
    {
     "name": "stdout",
     "output_type": "stream",
     "text": [
      "1\n"
     ]
    },
    {
     "data": {
      "text/plain": [
       "<matplotlib.image.AxesImage at 0x1a3250abee0>"
      ]
     },
     "execution_count": 65,
     "metadata": {},
     "output_type": "execute_result"
    },
    {
     "data": {
      "image/png": "[encoded data removed]",
      "text/plain": [
       "<Figure size 432x288 with 1 Axes>"
      ]
     },
     "metadata": {
      "needs_background": "light"
     },
     "output_type": "display_data"
    }
   ],
   "source": [
    "# Print an example MNIST digit and its according target label. - (digits dataset)\n",
    "\n",
    "print(val_data_mnist.targets[1900])\n",
    "plottable_image = np.reshape(val_data_mnist.data[1900], (28, 28))\n",
    "plt.imshow(plottable_image, cmap='gray')"
   ]
  },
  {
   "cell_type": "code",
   "execution_count": 66,
   "metadata": {},
   "outputs": [],
   "source": [
    "class Reservoir(nn.Module):\n",
    "    def __init__(self, input_size, reservoir_size, output_size, T, dataset = None):\n",
    "        super(Reservoir, self).__init__()\n",
    "        \n",
    "        # Activation functions\n",
    "        self.f_0 = nn.Tanh()\n",
    "        self.f_t = nn.ReLU(inplace=False)\n",
    "        self.f_y = nn.LogSoftmax(dim=1)\n",
    "        \n",
    "        # Amount of timesteps / recurrent layers\n",
    "        self.T = T\n",
    "        \n",
    "        # Initialize the weights & layers\n",
    "        self.initWeights(input_size, reservoir_size, output_size)\n",
    "        self.initLayers(input_size, reservoir_size, output_size)\n",
    "        \n",
    "        # Boolean\n",
    "        self.dataset = dataset\n",
    "\n",
    "    def forward(self, input):\n",
    "        \n",
    "        used_input = input\n",
    "        \n",
    "        # Squeeze the used input in 2 dims if we use the MNIST dataset.\n",
    "        if self.dataset == 'MNIST':\n",
    "            three_d_tensor = used_input.squeeze(1)\n",
    "            used_input = three_d_tensor.contiguous().view(three_d_tensor.size()[0], -1)  # 28 * 28 pixels = 784\n",
    "        \n",
    "        # Calculate c_0\n",
    "        c = self.f_0(self.layer1(used_input))\n",
    "        \n",
    "        for t in range(self.T):\n",
    "            # c_t =  f_t (W_r * c_t-1 + U * x_t)\n",
    "            c = self.f_t(self.layer2(c) + self.layer3(used_input))\n",
    "        \n",
    "        # Calculate y = f_y ( W_out * c_t)\n",
    "        y = self.f_y(self.layer4(c))\n",
    "    \n",
    "        return y\n",
    "    \n",
    "    def initWeights(self, input_size, reservoir_size, output_size):\n",
    "        \n",
    "        # Sample the initial weights from a uniform distribution - initialize the same as in the baseline model.\n",
    "        self.W_in = nn.Parameter(data = torch.zeros(reservoir_size, input_size, requires_grad=False))\n",
    "        self.W_in.data.uniform_(-0.01, 0.01)\n",
    "        \n",
    "        self.W_r = nn.Parameter(data = torch.zeros(reservoir_size, reservoir_size), requires_grad=False)\n",
    "        self.W_r.data.uniform_(-0.01, 0.01)\n",
    "        \n",
    "        self.W_out = nn.Parameter(data = torch.zeros(output_size, reservoir_size), requires_grad=True)\n",
    "        self.W_out.data.uniform_(-0.01, 0.01)\n",
    "        \n",
    "        self.U = nn.Parameter(data = torch.zeros(reservoir_size, input_size), requires_grad=False)\n",
    "        self.U.data.uniform_(-0.01, 0.01)\n",
    "        return\n",
    "    \n",
    "    def initLayers(self, input_size, reservoir_size, output_size):\n",
    "        # Input layer\n",
    "        self.layer1 = torch.nn.Linear(input_size, reservoir_size, bias=True)\n",
    "        self.layer1.weight = self.W_in\n",
    "        self.layer1.weight.requires_grad = False\n",
    "        self.layer1.bias.requires_grad = False\n",
    "        \n",
    "        # Recurrent layer\n",
    "        self.layer2 = torch.nn.Linear(reservoir_size, reservoir_size, bias=True)\n",
    "        self.layer2.weight = self.W_r\n",
    "        self.layer2.bias.requires_grad = False\n",
    "        self.layer3 = torch.nn.Linear(input_size, reservoir_size, bias=True)\n",
    "        self.layer3.weight = self.U\n",
    "        self.layer3.bias.requires_grad = False\n",
    "        \n",
    "        # Output layer\n",
    "        self.layer4 = torch.nn.Linear(reservoir_size, output_size, bias=True)\n",
    "        self.layer4.weight = self.W_out\n",
    "        self.layer4.bias.requires_grad = True\n",
    "        return\n",
    "        "
   ]
  },
  {
   "cell_type": "code",
   "execution_count": 67,
   "metadata": {},
   "outputs": [],
   "source": [
    "# Function that transforms the tensor output to a predicted target name. \n",
    "def categoryFromOutput(output):\n",
    "    top_n, top_i = output.topk(1)\n",
    "    category_i = top_i[0].item()\n",
    "    return LABELS[category_i]\n",
    "\n",
    "# Plot both accuracy as log loss. \n",
    "def plot_results(epochs, loss, accuracy):\n",
    "    fig, (ax1, ax2) = plt.subplots(2)\n",
    "    fig.suptitle('Results Reservoir - Only output is trained.')\n",
    "    ax1.set(ylabel='Loss')\n",
    "    ax2.set(ylabel='Accuracy', xlabel='Epochs')\n",
    "    \n",
    "    ax1.plot(epochs, loss)\n",
    "    ax2.plot(epochs, accuracy)\n",
    "    \n",
    "\n",
    "    plt.savefig('results_reservoir.png', bbox_inches='tight')\n",
    "    #plt.close()\n",
    "\n",
    "\n",
    "# Concatenating the results of all (64*)batches in the lists, calculating the total accuracy. \n",
    "def accuracy(pred_targets_list, gold_targets_list):\n",
    "    total_correct = 0\n",
    "    total_amount = 0\n",
    "    \n",
    "    zip_list = zip(pred_targets_list, gold_targets_list)\n",
    "    for pred_targets, gold_targets in zip_list:\n",
    "        total_correct += (pred_targets == gold_targets).float().sum()\n",
    "        total_amount += len(pred_targets)\n",
    "    \n",
    "    accuracy = 100 * total_correct / total_amount\n",
    "\n",
    "    return accuracy.item()\n",
    "\n",
    "# Evaluation -> used for validation and test set. \n",
    "def evaluation(val_loader, model, epoch, loss_function):\n",
    "    \n",
    "    #Evaluating our performance so far\n",
    "    model.eval()\n",
    "    \n",
    "    # Store all results in a list to calculate the accuracy. \n",
    "    pred_target_total_acc = []\n",
    "    target_total_acc = []\n",
    "    \n",
    "    # Initialize counters / c\n",
    "    loss = 0.\n",
    "    N = 0.\n",
    "    \n",
    "    # Iterating over the validation set batches, acquiring tensor formatted results. \n",
    "    for indx_batch, (batch, targets) in enumerate(val_loader):\n",
    "        output = model.forward(batch)\n",
    "        pred_targets = np.array([])\n",
    "        for item in output:\n",
    "            pred_targets = np.append(pred_targets, categoryFromOutput(item))\n",
    "        pred_targets = torch.from_numpy(pred_targets).int()\n",
    "        \n",
    "        # Calculating loss\n",
    "        loss_t = loss_function(output, targets.long())\n",
    "        loss = loss + loss_t.item()\n",
    "        N = N + batch.shape[0]\n",
    "        \n",
    "        #Append the batch result to a list of all results\n",
    "        pred_target_total_acc.append(pred_targets)\n",
    "        target_total_acc.append(targets)\n",
    "    \n",
    "    # Store the loss corrected by its size\n",
    "    loss = loss / N   \n",
    "        \n",
    "    total_accuracy = accuracy(pred_target_total_acc, target_total_acc)\n",
    "    print('Epoch: %s - Loss of: %s - Accuracy of: %s' %(epoch, loss,total_accuracy))\n",
    "    \n",
    "    return epoch, loss, total_accuracy"
   ]
  },
  {
   "cell_type": "code",
   "execution_count": 68,
   "metadata": {},
   "outputs": [],
   "source": [
    "def training(model, train_loader, val_loader, num_epochs, optimizer, loss_function, max_loss_iter):    \n",
    "    \n",
    "    print('Training started for %s epochs.'  %(num_epochs))\n",
    "    epochs = []\n",
    "    accuracy_results = []\n",
    "    loss_results = []\n",
    "    best_loss = 10000 # Picking random high number to assure correct functionality\n",
    "    loss_iter = 0\n",
    "\n",
    "    torch.autograd.set_detect_anomaly(True)\n",
    "\n",
    "    for epoch in range(num_epochs):\n",
    "\n",
    "        # Training\n",
    "        model.train()\n",
    "        for indx_batch, (batch, targets) in enumerate(train_loader):\n",
    "\n",
    "            output = model.forward(batch)\n",
    "\n",
    "            targets = targets.long()\n",
    "\n",
    "            loss = loss_function(output, targets)\n",
    "            \n",
    "            # Optional print of loss per batch\n",
    "            #print('Loss in batch %s is: %s' %(indx_batch, loss))\n",
    "        \n",
    "            # Perform back prop after each batch\n",
    "            loss = loss_function(output, targets)\n",
    "            optimizer.zero_grad()\n",
    "            loss.backward(retain_graph = True)\n",
    "            optimizer.step()\n",
    "\n",
    "        # Perform evaluation after each epoch\n",
    "        epoch, loss_eval, accuracy_eval = evaluation(val_loader, model, epoch, loss_function)\n",
    "        epochs.append(epoch)\n",
    "        accuracy_results.append(accuracy_eval)\n",
    "        loss_results.append(loss_eval)\n",
    "\n",
    "        if epoch == 0:\n",
    "            print('* Saving 1st epoch model *')\n",
    "            torch.save(model, 'trained_reservoir.model')\n",
    "            best_loss = loss_eval\n",
    "        else:\n",
    "            if loss_eval < best_loss:\n",
    "                print('* Saving new best model *')\n",
    "                torch.save(model, 'trained_reservoir.model')\n",
    "                best_loss = loss_eval\n",
    "                loss_iter = 0\n",
    "            else:\n",
    "                loss_iter += 1\n",
    "\n",
    "            # If loss has not improved for an arbitrary amount of epochs:\n",
    "        if loss_iter > max_loss_iter:\n",
    "            break\n",
    "\n",
    "    plot_results(epochs, loss_results, accuracy_results)\n",
    "\n",
    "    return model\n",
    "\n",
    "    "
   ]
  },
  {
   "cell_type": "code",
   "execution_count": 69,
   "metadata": {},
   "outputs": [],
   "source": [
    "input_size_digits = 64  # 8 * 8 pixels\n",
    "input_size_mnist = 784  # 28 * 28 pixels\n",
    "reservoir_size = 128\n",
    "n_labels = 10\n",
    "lr_SGD = 0.0001\n",
    "momentum_SGD = 0.9\n",
    "n_epochs = 5\n",
    "max_loss_iter = 10\n",
    "batch_size= 50\n",
    "T = 5"
   ]
  },
  {
   "cell_type": "code",
   "execution_count": 70,
   "metadata": {},
   "outputs": [
    {
     "name": "stdout",
     "output_type": "stream",
     "text": [
      "Training started for 5 epochs.\n",
      "Epoch: 0 - Loss of: 2.255411616734096 - Accuracy of: 34.57143020629883\n",
      "* Saving 1st epoch model *\n",
      "Epoch: 1 - Loss of: 2.182545209612165 - Accuracy of: 76.28571319580078\n",
      "* Saving new best model *\n",
      "Epoch: 2 - Loss of: 2.1104095458984373 - Accuracy of: 83.14286041259766\n",
      "* Saving new best model *\n",
      "Epoch: 3 - Loss of: 2.041295122419085 - Accuracy of: 84.28571319580078\n",
      "* Saving new best model *\n",
      "Epoch: 4 - Loss of: 1.973761945452009 - Accuracy of: 86.28571319580078\n",
      "* Saving new best model *\n"
     ]
    },
    {
     "data": {
      "image/png": "[encoded data removed]",
      "text/plain": [
       "<Figure size 432x288 with 2 Axes>"
      ]
     },
     "metadata": {
      "needs_background": "light"
     },
     "output_type": "display_data"
    }
   ],
   "source": [
    "model_digits = Reservoir(input_size_digits, reservoir_size, n_labels, T, dataset = 'Digits')\n",
    "optimizer_digits = optim.SGD([p for p in model_digits.parameters() if p.requires_grad == True], lr=lr_SGD, momentum=momentum_SGD)\n",
    "loss_function = nn.NLLLoss(reduction='sum') # Mean is also possible.\n",
    "trained_model_digits = training(model_digits, train_loader_digits, val_loader_digits, n_epochs, optimizer_digits, loss_function, max_loss_iter)"
   ]
  },
  {
   "cell_type": "code",
   "execution_count": 71,
   "metadata": {},
   "outputs": [
    {
     "name": "stdout",
     "output_type": "stream",
     "text": [
      "Training started for 5 epochs.\n",
      "Epoch: 0 - Loss of: 1.7827579559326172 - Accuracy of: 68.55000305175781\n",
      "* Saving 1st epoch model *\n",
      "Epoch: 1 - Loss of: 1.4683156593322755 - Accuracy of: 73.37999725341797\n",
      "* Saving new best model *\n",
      "Epoch: 2 - Loss of: 1.2687033664703369 - Accuracy of: 76.41000366210938\n",
      "* Saving new best model *\n",
      "Epoch: 3 - Loss of: 1.1341402290344238 - Accuracy of: 78.05999755859375\n",
      "* Saving new best model *\n",
      "Epoch: 4 - Loss of: 1.0380381763458253 - Accuracy of: 79.08999633789062\n",
      "* Saving new best model *\n"
     ]
    },
    {
     "data": {
      "image/png": "[encoded data removed]",
      "text/plain": [
       "<Figure size 432x288 with 2 Axes>"
      ]
     },
     "metadata": {
      "needs_background": "light"
     },
     "output_type": "display_data"
    }
   ],
   "source": [
    "model_mnist = Reservoir(input_size_mnist, reservoir_size, n_labels, T, dataset = 'MNIST')\n",
    "optimizer_mnist = optim.SGD([p for p in model_mnist.parameters() if p.requires_grad == True], lr=lr_SGD, momentum=momentum_SGD)\n",
    "loss_function = nn.NLLLoss(reduction='sum') # Mean is also possible.\n",
    "trained_model_mnist = training(model_mnist, train_loader_mnist, val_loader_mnist, n_epochs, optimizer_mnist, loss_function, max_loss_iter)"
   ]
  },
  {
   "cell_type": "code",
   "execution_count": 72,
   "metadata": {},
   "outputs": [
    {
     "name": "stdout",
     "output_type": "stream",
     "text": [
      "-----------------------------------------------------------------------\n",
      "      Layer (type)         Input Shape         Param #     Tr. Param #\n",
      "=======================================================================\n",
      "          Linear-1             [1, 64]           8,320               0\n",
      "            Tanh-2            [1, 128]               0               0\n",
      "          Linear-3            [1, 128]          16,512               0\n",
      "          Linear-4             [1, 64]           8,320               0\n",
      "            ReLU-5            [1, 128]               0               0\n",
      "          Linear-6            [1, 128]          16,512               0\n",
      "          Linear-7             [1, 64]           8,320               0\n",
      "            ReLU-8            [1, 128]               0               0\n",
      "          Linear-9            [1, 128]          16,512               0\n",
      "         Linear-10             [1, 64]           8,320               0\n",
      "           ReLU-11            [1, 128]               0               0\n",
      "         Linear-12            [1, 128]          16,512               0\n",
      "         Linear-13             [1, 64]           8,320               0\n",
      "           ReLU-14            [1, 128]               0               0\n",
      "         Linear-15            [1, 128]          16,512               0\n",
      "         Linear-16             [1, 64]           8,320               0\n",
      "           ReLU-17            [1, 128]               0               0\n",
      "         Linear-18            [1, 128]           1,290           1,290\n",
      "     LogSoftmax-19             [1, 10]               0               0\n",
      "=======================================================================\n",
      "Total params: 133,770\n",
      "Trainable params: 1,290\n",
      "Non-trainable params: 132,480\n",
      "-----------------------------------------------------------------------\n"
     ]
    }
   ],
   "source": [
    "print(summary(model_digits, torch.zeros(1, 64), show_input=True, show_hierarchical=False))"
   ]
  },
  {
   "cell_type": "code",
   "execution_count": 73,
   "metadata": {},
   "outputs": [
    {
     "name": "stdout",
     "output_type": "stream",
     "text": [
      "Epoch: Final score Digits - Loss of: 1.9958654143399575 - Accuracy of: 82.32662200927734\n"
     ]
    }
   ],
   "source": [
    "test_result_digits = evaluation(test_loader, trained_model_digits, 'Final score Digits', loss_function)"
   ]
  },
  {
   "cell_type": "code",
   "execution_count": 74,
   "metadata": {},
   "outputs": [
    {
     "name": "stdout",
     "output_type": "stream",
     "text": [
      "Epoch: Final score MNIST - Loss of: 1.0466077304840087 - Accuracy of: 78.2699966430664\n"
     ]
    }
   ],
   "source": [
    "test_result_mnist = evaluation(test_loader_mnist, trained_model_mnist, 'Final score MNIST', loss_function)"
   ]
  }
 ],
 "metadata": {
  "kernelspec": {
   "display_name": "Python 3",
   "language": "python",
   "name": "python3"
  },
  "language_info": {
   "codemirror_mode": {
    "name": "ipython",
    "version": 3
   },
   "file_extension": ".py",
   "mimetype": "text/x-python",
   "name": "python",
   "nbconvert_exporter": "python",
   "pygments_lexer": "ipython3",
   "version": "3.8.5"
  }
 },
 "nbformat": 4,
 "nbformat_minor": 4
}
