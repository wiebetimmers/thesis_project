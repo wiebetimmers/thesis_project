{
 "cells": [
  {
   "cell_type": "markdown",
   "metadata": {},
   "source": [
    "## Baseline Model - RNN with complete backpropagation\n",
    "- Using a RNN with 2 linear layers , with LogSoftMax as activation function. \n",
    "- Performing classification on the Digits dataset from sklearn.\n",
    "- Results measured in logg loss (sum) and accuracy. \n",
    "\n",
    "Code (inspiration) I used :\n",
    "- https://pytorch.org/tutorials/intermediate/char_rnn_classification_tutorial.html\n",
    "- https://towardsdatascience.com/handwritten-digit-mnist-pytorch-977b5338e627 \n",
    "- Especially a lot of the code on github: https://github.com/jmtomczak/intro_dgm \n",
    "\n",
    "Errors i ran in to:\n",
    "- https://nieznanm.medium.com/runtimeerror-one-of-the-variables-needed-for-gradient-computation-has-been-modified-by-an-inplace-85d0d207623\n",
    "\n"
   ]
  },
  {
   "cell_type": "code",
   "execution_count": 5,
   "metadata": {},
   "outputs": [],
   "source": [
    "import matplotlib.pyplot as plt\n",
    "import torch\n",
    "import torch.nn as nn\n",
    "import torch.nn.functional as F\n",
    "import torch.optim as optim\n",
    "from sklearn.datasets import load_digits\n",
    "from sklearn import datasets\n",
    "import numpy as np\n",
    "import os, sys, tarfile\n",
    "import requests\n",
    "import shutil\n",
    "import torchvision\n",
    "import numpy as np\n",
    "from PIL import Image\n",
    "from torchvision import transforms\n",
    "from torch.utils.data import random_split\n",
    "from torch.utils.data import Dataset, DataLoader\n",
    "from torch.utils.data.sampler import SubsetRandomSampler\n",
    "import random\n",
    "from pytorch_model_summary import summary"
   ]
  },
  {
   "cell_type": "markdown",
   "metadata": {},
   "source": [
    "### The Digits Dataset:"
   ]
  },
  {
   "cell_type": "code",
   "execution_count": 6,
   "metadata": {},
   "outputs": [],
   "source": [
    "class Digits(Dataset):\n",
    "    \"\"\"Scikit-Learn Digits dataset.\"\"\"\n",
    "\n",
    "    def __init__(self, mode='train', transforms=None):\n",
    "        digits = load_digits()\n",
    "        if mode == 'train':\n",
    "            self.data = digits.data[:1000].astype(np.float32)\n",
    "            self.targets = digits.target[:1000]\n",
    "        elif mode == 'val':\n",
    "            self.data = digits.data[1000:1350].astype(np.float32)\n",
    "            self.targets = digits.target[1000:1350]\n",
    "        else:\n",
    "            self.data = digits.data[1350:].astype(np.float32)\n",
    "            self.targets = digits.target[1350:]\n",
    "        \n",
    "        self.transforms = transforms\n",
    "        self.target_names = digits.target_names\n",
    "\n",
    "    def __len__(self):\n",
    "        return len(self.data)\n",
    "\n",
    "    def __getitem__(self, idx):\n",
    "        sample_x = self.data[idx]\n",
    "        sample_y = self.targets[idx]\n",
    "        if self.transforms:\n",
    "            sample_x = self.transforms(sample_x)\n",
    "        return (sample_x, sample_y)\n",
    "    "
   ]
  },
  {
   "cell_type": "code",
   "execution_count": 7,
   "metadata": {},
   "outputs": [],
   "source": [
    "# Initiliazing the data loaders for the digits dataset. \n",
    "\n",
    "train_data = Digits(mode='train')\n",
    "val_data = Digits(mode='val')\n",
    "test_data = Digits(mode='test')\n",
    "\n",
    "LABELS = train_data.target_names\n",
    "\n",
    "train_loader = DataLoader(train_data, batch_size=64, shuffle=True)\n",
    "val_loader = DataLoader(val_data, batch_size=64, shuffle=False)\n",
    "test_loader = DataLoader(test_data, batch_size=64, shuffle=False)\n",
    "\n",
    "result_dir = 'results_baseline_wiebe/'\n",
    "if not(os.path.exists(result_dir)):\n",
    "    os.mkdir(result_dir)\n"
   ]
  },
  {
   "cell_type": "code",
   "execution_count": 8,
   "metadata": {},
   "outputs": [
    {
     "name": "stdout",
     "output_type": "stream",
     "text": [
      "1\n"
     ]
    },
    {
     "data": {
      "text/plain": [
       "<matplotlib.image.AxesImage at 0x29cfa017070>"
      ]
     },
     "execution_count": 8,
     "metadata": {},
     "output_type": "execute_result"
    },
    {
     "data": {
      "image/png": "[encoded data removed]",
      "text/plain": [
       "<Figure size 432x288 with 1 Axes>"
      ]
     },
     "metadata": {
      "needs_background": "light"
     },
     "output_type": "display_data"
    }
   ],
   "source": [
    "# Print an example digit and its according target label. - (digits dataset)\n",
    "\n",
    "print(train_data.targets[90])\n",
    "plottable_image = np.reshape(train_data.data[90], (8, 8))\n",
    "plt.imshow(plottable_image, cmap='gray')"
   ]
  },
  {
   "cell_type": "markdown",
   "metadata": {},
   "source": [
    "### The MNIST dataset"
   ]
  },
  {
   "cell_type": "code",
   "execution_count": 9,
   "metadata": {},
   "outputs": [],
   "source": [
    "class MNIST(Dataset):\n",
    "    \"\"\"Complete MNIST dataset.\"\"\"\n",
    "\n",
    "    def __init__(self, mode='train', transforms=None):\n",
    "        data_set_train = torchvision.datasets.MNIST('/files/', train=True, download=True,\n",
    "                             transform=torchvision.transforms.Compose([\n",
    "                               torchvision.transforms.ToTensor(),\n",
    "                               torchvision.transforms.Normalize(\n",
    "                                 (0.1307,), (0.3081,))\n",
    "                             ]))\n",
    "\n",
    "        data_set_test = torchvision.datasets.MNIST('/files/', train=False, download=True,\n",
    "                             transform=torchvision.transforms.Compose([\n",
    "                               torchvision.transforms.ToTensor(),\n",
    "                               torchvision.transforms.Normalize(\n",
    "                                 (0.1307,), (0.3081,))\n",
    "                             ]))\n",
    "        self.data = []\n",
    "        self.targets = []\n",
    "        \n",
    "        if mode == 'train':\n",
    "            for i in range(50001):\n",
    "                self.data.append(data_set_train[i][0].numpy())\n",
    "                self.targets.append(data_set_train[i][1])\n",
    "        elif mode == 'val':\n",
    "            for i in range(50001, 60000):\n",
    "                self.data.append(data_set_train[i][0].numpy())\n",
    "                self.targets.append(data_set_train[i][1])\n",
    "        else:\n",
    "            for i in range(len(data_set_test)):\n",
    "                self.data.append(data_set_test[i][0].numpy())\n",
    "                self.targets.append(data_set_test[i][1])\n",
    "        \n",
    "        self.targets = np.array(self.targets)\n",
    "        self.data = np.array(self.data)\n",
    "        self.transforms = transforms\n",
    "\n",
    "    def __len__(self):\n",
    "        return len(self.data)\n",
    "\n",
    "    def __getitem__(self, idx):\n",
    "        sample_x = self.data[idx]\n",
    "        sample_y = self.targets[idx]\n",
    "        if self.transforms:\n",
    "            sample_x = self.transforms(sample_x)\n",
    "        return (sample_x, sample_y)"
   ]
  },
  {
   "cell_type": "code",
   "execution_count": 10,
   "metadata": {},
   "outputs": [],
   "source": [
    "# Load in the MNIST dataset - (takes longer to load than Digits!, 6)\n",
    "train_data_mnist = MNIST(mode='train')\n",
    "val_data_mnist = MNIST(mode='val')\n",
    "test_data_mnist = MNIST(mode='test')\n",
    "\n",
    "train_loader_mnist = DataLoader(train_data_mnist, batch_size=64, shuffle=True)\n",
    "val_loader_mnist = DataLoader(val_data_mnist, batch_size=64, shuffle=True)\n",
    "test_loader_mnist = DataLoader(test_data_mnist, batch_size=64, shuffle=False)"
   ]
  },
  {
   "cell_type": "code",
   "execution_count": 11,
   "metadata": {},
   "outputs": [
    {
     "name": "stdout",
     "output_type": "stream",
     "text": [
      "1\n"
     ]
    },
    {
     "data": {
      "text/plain": [
       "<matplotlib.image.AxesImage at 0x29cf9f771c0>"
      ]
     },
     "execution_count": 11,
     "metadata": {},
     "output_type": "execute_result"
    },
    {
     "data": {
      "image/png": "[encoded data removed]",
      "text/plain": [
       "<Figure size 432x288 with 1 Axes>"
      ]
     },
     "metadata": {
      "needs_background": "light"
     },
     "output_type": "display_data"
    }
   ],
   "source": [
    "# Print an example MNIST digit and its according target label. - (digits dataset)\n",
    "\n",
    "print(val_data_mnist.targets[1900])\n",
    "plottable_image = np.reshape(val_data_mnist.data[1900], (28, 28))\n",
    "plt.imshow(plottable_image, cmap='gray')"
   ]
  },
  {
   "cell_type": "markdown",
   "metadata": {},
   "source": [
    "### The Baseline RNN "
   ]
  },
  {
   "cell_type": "code",
   "execution_count": 12,
   "metadata": {},
   "outputs": [],
   "source": [
    "class RNN(nn.Module):\n",
    "    def __init__(self, input_size, hidden_size, output_size, dataset_MNIST = False):\n",
    "        super(RNN, self).__init__()\n",
    "        self.hidden_size = hidden_size\n",
    "        self.i2h = nn.Linear(input_size + hidden_size, hidden_size)\n",
    "        self.i2o = nn.Linear(input_size + hidden_size, output_size)\n",
    "        self.softmax = nn.LogSoftmax(dim=1)\n",
    "        \n",
    "        self.mnist = dataset_MNIST\n",
    "\n",
    "    def forward(self, input, hidden):\n",
    "        \n",
    "        # If we use the Digits dataset\n",
    "        if self.mnist == False:\n",
    "            if input.size()[0] != BATCH_SIZE:\n",
    "                #If we get dataset % batch set != 0 at the end of the batch iterations. \n",
    "                hidden_end = torch.zeros(input.size()[0], self.hidden_size)\n",
    "                combined = torch.cat((input, hidden_end), 1)\n",
    "            else:\n",
    "                combined = torch.cat((input, hidden), 1)  \n",
    "        \n",
    "        # If we use the MNIST dataset - squeeze the MNIST Tensor in 2 dimensions \n",
    "        elif self.mnist == True:\n",
    "            if input.size()[0] != BATCH_SIZE:\n",
    "                # If we get dataset % batch set != 0 at the end of the batch iterations.\n",
    "                hidden_end = torch.zeros(input.size()[0], self.hidden_size)\n",
    "                three_d_tensor = input.squeeze(1)\n",
    "                two_d_tensor = three_d_tensor.contiguous().view(three_d_tensor.size()[0], -1)  # 28 * 28 pixels = 784\n",
    "                combined = torch.cat((two_d_tensor, hidden_end), 1)\n",
    "            else:\n",
    "                three_d_tensor = input.squeeze(1)\n",
    "                two_d_tensor = three_d_tensor.contiguous().view(three_d_tensor.size()[0], -1)  # 28 * 28 pixels = 784\n",
    "                combined = torch.cat((two_d_tensor, hidden), 1)\n",
    "        \n",
    "    \n",
    "        hidden = self.i2h(combined)\n",
    "        output = self.i2o(combined)\n",
    "        output2 = self.softmax(output)\n",
    "        return output2, hidden\n",
    "        \n",
    "\n",
    "    def initHidden(self):\n",
    "        return torch.zeros(BATCH_SIZE, self.hidden_size)\n"
   ]
  },
  {
   "cell_type": "markdown",
   "metadata": {},
   "source": [
    "## Auxilary functions"
   ]
  },
  {
   "cell_type": "code",
   "execution_count": 13,
   "metadata": {},
   "outputs": [],
   "source": [
    "# Function that transforms the tensor output to a predicted target name. \n",
    "def categoryFromOutput(output):\n",
    "    top_n, top_i = output.topk(1)\n",
    "    category_i = top_i[0].item()\n",
    "    return LABELS[category_i]\n",
    "\n",
    "\n",
    "# Plot both accuracy as log loss. \n",
    "def plot_results(epochs, loss, accuracy):\n",
    "    fig, (ax1, ax2) = plt.subplots(2)\n",
    "    fig.suptitle('Results RNN - Full Backpropagation.')\n",
    "    ax1.set(ylabel='Loss')\n",
    "    ax2.set(ylabel='Accuracy', xlabel='Epochs')\n",
    "    \n",
    "    ax1.plot(epochs, loss)\n",
    "    ax2.plot(epochs, accuracy)\n",
    "    \n",
    "\n",
    "    plt.savefig('results_rnn_baseline.png', bbox_inches='tight')\n",
    "    #plt.close()\n",
    "\n",
    "\n",
    "# Concatenating the results of all (64*)batches in the lists, calculating the total accuracy. \n",
    "def accuracy(pred_targets_list, gold_targets_list):\n",
    "    total_correct = 0\n",
    "    total_amount = 0\n",
    "    \n",
    "    zip_list = zip(pred_targets_list, gold_targets_list)\n",
    "    for pred_targets, gold_targets in zip_list:\n",
    "        total_correct += (pred_targets == gold_targets).float().sum()\n",
    "        total_amount += len(pred_targets)\n",
    "    \n",
    "    accuracy = 100 * total_correct / total_amount\n",
    "\n",
    "    return accuracy.item()\n",
    "\n",
    "# Evaluation -> used for validation and test set. \n",
    "def evaluation(val_loader, model, epoch, loss_function):\n",
    "    hidden = model.initHidden()\n",
    "    \n",
    "    #Evaluating our performance so far\n",
    "    model.eval()\n",
    "    \n",
    "    # Store all results in a list to calculate the accuracy. \n",
    "    pred_target_total_acc = []\n",
    "    target_total_acc = []\n",
    "    \n",
    "    # Initliaze dataset size and loss\n",
    "    loss = 0.\n",
    "    N = 0.\n",
    "    \n",
    "    # Iterating over the validation set batches, acquiring tensor formatted results. \n",
    "    for indx_batch, (batch, targets) in enumerate(val_loader):\n",
    "        output, hidden_new = model.forward(batch, hidden)\n",
    "        pred_targets = np.array([])\n",
    "        for item in output:\n",
    "            pred_targets = np.append(pred_targets, categoryFromOutput(item))\n",
    "        pred_targets = torch.from_numpy(pred_targets).int()\n",
    "        \n",
    "        # Calculating loss\n",
    "        loss_t = loss_function(output, targets.long())\n",
    "        loss = loss + loss_t.item()\n",
    "        N = N + batch.shape[0]\n",
    "        \n",
    "        #Append the batch result to a list of all results\n",
    "        pred_target_total_acc.append(pred_targets)\n",
    "        target_total_acc.append(targets)\n",
    "    \n",
    "    # Store the loss corrected by its size\n",
    "    loss = loss / N   \n",
    "        \n",
    "    total_accuracy = accuracy(pred_target_total_acc, target_total_acc)\n",
    "    print('Epoch: %s - Loss of: %s - Accuracy of: %s' %(epoch, loss,total_accuracy))\n",
    "    \n",
    "    return epoch, loss, total_accuracy"
   ]
  },
  {
   "cell_type": "code",
   "execution_count": 14,
   "metadata": {},
   "outputs": [],
   "source": [
    "def training(model, train_loader, val_loader, num_epochs, optimizer, loss_function, max_loss_iter):\n",
    "    \n",
    "    print('Training started for %s epochs.'  %(num_epochs))\n",
    "    epochs = []\n",
    "    accuracy_results = []\n",
    "    loss_results = []\n",
    "    best_loss = 10000 # Picking random high number to assure correct functionality\n",
    "    loss_iter = 0\n",
    "    \n",
    "    # Initialize hidden layers\n",
    "    hidden = model.initHidden()\n",
    "    \n",
    "    # Used for error detection\n",
    "    #torch.autograd.set_detect_anomaly(True)\n",
    "\n",
    "    for epoch in range(num_epochs):\n",
    "        # Training\n",
    "        model.train()\n",
    "        \n",
    "        # Processing batch by batch\n",
    "        for indx_batch, (batch, targets) in enumerate(train_loader):\n",
    "\n",
    "            # Inplace error: if I want to change hidden to become hidden_new - how does this work? \n",
    "            # don't we want to feed the new hidden layer?\n",
    "            output, hidden_new = model.forward(batch, hidden)\n",
    "            targets = targets.long()\n",
    "\n",
    "            loss = loss_function(output, targets)\n",
    "            optimizer.zero_grad()\n",
    "\n",
    "            loss.backward(retain_graph = True)\n",
    "            optimizer.step()\n",
    "\n",
    "            #Optional: see the training loss per batch during training. \n",
    "            #print(\"Training Loss, per batch: %s\" %loss)\n",
    "        epoch, loss_eval, accuracy_eval = evaluation(val_loader, model, epoch, loss_function)\n",
    "        epochs.append(epoch)\n",
    "        accuracy_results.append(accuracy_eval)\n",
    "        loss_results.append(loss_eval)\n",
    "        \n",
    "        if epoch == 0:\n",
    "            print('* Saving 1st epoch model *')\n",
    "            torch.save(model, 'trained.model')\n",
    "            best_loss = loss_eval\n",
    "        else:\n",
    "            if loss_eval < best_loss:\n",
    "                print('* Saving new best model *')\n",
    "                torch.save(model, 'trained.model')\n",
    "                best_loss = loss_eval\n",
    "                loss_iter = 0\n",
    "            else:\n",
    "                loss_iter += 1\n",
    "        \n",
    "        # If loss has not improved for an arbitrary amount of epochs:\n",
    "        if loss_iter > max_loss_iter:\n",
    "            break\n",
    "    \n",
    "    plot_results(epochs, loss_results, accuracy_results)\n",
    "    \n",
    "    return model\n",
    "\n"
   ]
  },
  {
   "cell_type": "markdown",
   "metadata": {},
   "source": [
    "## Parameter set-up"
   ]
  },
  {
   "cell_type": "code",
   "execution_count": 15,
   "metadata": {},
   "outputs": [],
   "source": [
    "INPUT_SIZE_DIGITS = 64  # 8 * 8 pixels\n",
    "INPUT_SIZE_MNIST = 784  # 28 * 28 pixels\n",
    "BATCH_SIZE = 64 \n",
    "n_hidden = 128\n",
    "n_labels = 10\n",
    "n_epochs = 100\n",
    "lr_SGD = 0.01\n",
    "momentum_SGD = 0.9\n",
    "max_loss_iter = 10"
   ]
  },
  {
   "cell_type": "markdown",
   "metadata": {},
   "source": [
    "## Initialize model/optimizer/loss_function. Start training."
   ]
  },
  {
   "cell_type": "code",
   "execution_count": 16,
   "metadata": {},
   "outputs": [
    {
     "name": "stdout",
     "output_type": "stream",
     "text": [
      "Training started for 100 epochs.\n",
      "Epoch: 0 - Loss of: 307.6080301339286 - Accuracy of: 58.0\n",
      "* Saving 1st epoch model *\n",
      "Epoch: 1 - Loss of: 80.89982038225446 - Accuracy of: 85.42857360839844\n",
      "* Saving new best model *\n",
      "Epoch: 2 - Loss of: 48.22303955078125 - Accuracy of: 90.0\n",
      "* Saving new best model *\n",
      "Epoch: 3 - Loss of: 27.069544503348215 - Accuracy of: 96.28571319580078\n",
      "* Saving new best model *\n",
      "Epoch: 4 - Loss of: 37.591093052455356 - Accuracy of: 92.0\n",
      "Epoch: 5 - Loss of: 31.71178920200893 - Accuracy of: 94.28571319580078\n",
      "Epoch: 6 - Loss of: 26.66696716308594 - Accuracy of: 93.14286041259766\n",
      "* Saving new best model *\n",
      "Epoch: 7 - Loss of: 28.78374392918178 - Accuracy of: 94.0\n",
      "Epoch: 8 - Loss of: 49.49628173828125 - Accuracy of: 90.57142639160156\n",
      "Epoch: 9 - Loss of: 25.46099888392857 - Accuracy of: 94.57142639160156\n",
      "* Saving new best model *\n",
      "Epoch: 10 - Loss of: 33.90861018589565 - Accuracy of: 93.71428680419922\n",
      "Epoch: 11 - Loss of: 21.70449548278536 - Accuracy of: 95.42857360839844\n",
      "* Saving new best model *\n",
      "Epoch: 12 - Loss of: 30.519339948381695 - Accuracy of: 93.71428680419922\n",
      "Epoch: 13 - Loss of: 23.379568920135497 - Accuracy of: 95.14286041259766\n",
      "Epoch: 14 - Loss of: 29.925687081473214 - Accuracy of: 92.85713958740234\n",
      "Epoch: 15 - Loss of: 27.34633074079241 - Accuracy of: 94.57142639160156\n",
      "Epoch: 16 - Loss of: 25.35011906215123 - Accuracy of: 94.85713958740234\n",
      "Epoch: 17 - Loss of: 23.63963117327009 - Accuracy of: 94.0\n",
      "Epoch: 18 - Loss of: 23.09670846121652 - Accuracy of: 94.85713958740234\n",
      "Epoch: 19 - Loss of: 25.76269060407366 - Accuracy of: 93.14286041259766\n",
      "Epoch: 20 - Loss of: 24.043274710518972 - Accuracy of: 95.14286041259766\n",
      "Epoch: 21 - Loss of: 25.099064069475446 - Accuracy of: 94.57142639160156\n",
      "Epoch: 22 - Loss of: 33.16642735072545 - Accuracy of: 93.14286041259766\n"
     ]
    },
    {
     "data": {
      "image/png": "[encoded data removed]",
      "text/plain": [
       "<Figure size 432x288 with 2 Axes>"
      ]
     },
     "metadata": {
      "needs_background": "light"
     },
     "output_type": "display_data"
    }
   ],
   "source": [
    "# Perform training on the DIGITS dataset\n",
    "model = RNN(INPUT_SIZE_DIGITS, n_hidden, n_labels, dataset_MNIST = False)\n",
    "optimizer = optim.SGD([p for p in model.parameters() if p.requires_grad == True], lr=lr_SGD, momentum=momentum_SGD)\n",
    "loss_function = nn.NLLLoss(reduction='sum') # Mean is also possible.\n",
    "\n",
    "trained_model = training(model, train_loader, val_loader, n_epochs, optimizer, loss_function, max_loss_iter)\n"
   ]
  },
  {
   "cell_type": "code",
   "execution_count": 17,
   "metadata": {},
   "outputs": [
    {
     "name": "stdout",
     "output_type": "stream",
     "text": [
      "Training started for 100 epochs.\n",
      "Epoch: 0 - Loss of: 2.4047884654493283 - Accuracy of: 8.130812644958496\n",
      "* Saving 1st epoch model *\n",
      "Epoch: 1 - Loss of: 2.404788499403529 - Accuracy of: 8.130812644958496\n",
      "Epoch: 2 - Loss of: 2.4047884952069425 - Accuracy of: 8.130812644958496\n",
      "Epoch: 3 - Loss of: 2.4047884704089304 - Accuracy of: 8.130812644958496\n",
      "Epoch: 4 - Loss of: 2.404788469645915 - Accuracy of: 8.130812644958496\n",
      "Epoch: 5 - Loss of: 2.404788483761706 - Accuracy of: 8.130812644958496\n",
      "Epoch: 6 - Loss of: 2.404788482235675 - Accuracy of: 8.130812644958496\n",
      "Epoch: 7 - Loss of: 2.4047884646863125 - Accuracy of: 8.130812644958496\n",
      "* Saving new best model *\n",
      "Epoch: 8 - Loss of: 2.4047885131378126 - Accuracy of: 8.130812644958496\n",
      "Epoch: 9 - Loss of: 2.4047884944439266 - Accuracy of: 8.130812644958496\n",
      "Epoch: 10 - Loss of: 2.404788488339801 - Accuracy of: 8.130812644958496\n",
      "Epoch: 11 - Loss of: 2.4047884456109183 - Accuracy of: 8.130812644958496\n",
      "* Saving new best model *\n",
      "Epoch: 12 - Loss of: 2.4047884383622686 - Accuracy of: 8.130812644958496\n",
      "* Saving new best model *\n",
      "Epoch: 13 - Loss of: 2.4047884623972653 - Accuracy of: 8.130812644958496\n",
      "Epoch: 14 - Loss of: 2.404788475368533 - Accuracy of: 8.130812644958496\n",
      "Epoch: 15 - Loss of: 2.4047884704089304 - Accuracy of: 8.130812644958496\n",
      "Epoch: 16 - Loss of: 2.4047884849062298 - Accuracy of: 8.130812644958496\n",
      "Epoch: 17 - Loss of: 2.404788465830836 - Accuracy of: 8.130812644958496\n",
      "Epoch: 18 - Loss of: 2.4047884929178953 - Accuracy of: 8.130812644958496\n",
      "Epoch: 19 - Loss of: 2.4047884818541667 - Accuracy of: 8.130812644958496\n",
      "Epoch: 20 - Loss of: 2.404788452859568 - Accuracy of: 8.130812644958496\n",
      "Epoch: 21 - Loss of: 2.4047884757500406 - Accuracy of: 8.130812644958496\n",
      "Epoch: 22 - Loss of: 2.4047884208129067 - Accuracy of: 8.130812644958496\n",
      "* Saving new best model *\n",
      "Epoch: 23 - Loss of: 2.4047884307321112 - Accuracy of: 8.130812644958496\n",
      "Epoch: 24 - Loss of: 2.4047885020740845 - Accuracy of: 8.130812644958496\n",
      "Epoch: 25 - Loss of: 2.4047884795651195 - Accuracy of: 8.130812644958496\n",
      "Epoch: 26 - Loss of: 2.404788471934962 - Accuracy of: 8.130812644958496\n",
      "Epoch: 27 - Loss of: 2.4047884570561546 - Accuracy of: 8.130812644958496\n",
      "Epoch: 28 - Loss of: 2.4047884643048043 - Accuracy of: 8.130812644958496\n",
      "Epoch: 29 - Loss of: 2.404788462778773 - Accuracy of: 8.130812644958496\n",
      "Epoch: 30 - Loss of: 2.404788491391864 - Accuracy of: 8.130812644958496\n",
      "Epoch: 31 - Loss of: 2.4047884891028164 - Accuracy of: 8.130812644958496\n",
      "Epoch: 32 - Loss of: 2.404788469645915 - Accuracy of: 8.130812644958496\n",
      "Epoch: 33 - Loss of: 2.4047885222940018 - Accuracy of: 8.130812644958496\n"
     ]
    },
    {
     "data": {
      "image/png": "[encoded data removed]",
      "text/plain": [
       "<Figure size 432x288 with 2 Axes>"
      ]
     },
     "metadata": {
      "needs_background": "light"
     },
     "output_type": "display_data"
    }
   ],
   "source": [
    "# Perform training on the MNIST dataset\n",
    "model_mnist = RNN(INPUT_SIZE_MNIST, n_hidden, n_labels, dataset_MNIST = True)\n",
    "optimizer = optim.SGD([p for p in model.parameters() if p.requires_grad == True], lr=0.1, momentum=0.9)\n",
    "loss_function_mnist = nn.NLLLoss(reduction='sum') # Mean is also possible.\n",
    "\n",
    "trained_model_mnist = training(model_mnist, train_loader_mnist, val_loader_mnist, n_epochs, optimizer, loss_function_mnist, max_loss_iter)"
   ]
  },
  {
   "cell_type": "code",
   "execution_count": 18,
   "metadata": {},
   "outputs": [
    {
     "name": "stdout",
     "output_type": "stream",
     "text": [
      "-----------------------------------------------------------------------\n",
      "      Layer (type)         Input Shape         Param #     Tr. Param #\n",
      "=======================================================================\n",
      "          Linear-1            [1, 192]          24,704          24,704\n",
      "          Linear-2            [1, 192]           1,930           1,930\n",
      "      LogSoftmax-3             [1, 10]               0               0\n",
      "=======================================================================\n",
      "Total params: 26,634\n",
      "Trainable params: 26,634\n",
      "Non-trainable params: 0\n",
      "-----------------------------------------------------------------------\n"
     ]
    }
   ],
   "source": [
    "# Summary of the RNN model:\n",
    "print(summary(model, torch.zeros(1, 64), model.initHidden(), show_input=True, show_hierarchical=False))"
   ]
  },
  {
   "cell_type": "markdown",
   "metadata": {},
   "source": [
    "## Analyze our performance on the test set:"
   ]
  },
  {
   "cell_type": "code",
   "execution_count": 52,
   "metadata": {},
   "outputs": [
    {
     "name": "stdout",
     "output_type": "stream",
     "text": [
      "Epoch: Final score - Loss of: 71.54322627193443 - Accuracy of: 90.38031005859375\n"
     ]
    }
   ],
   "source": [
    "test_result = evaluation(test_loader, trained_model, 'Final score', loss_function)"
   ]
  },
  {
   "cell_type": "code",
   "execution_count": null,
   "metadata": {},
   "outputs": [],
   "source": []
  }
 ],
 "metadata": {
  "kernelspec": {
   "display_name": "Python 3",
   "language": "python",
   "name": "python3"
  },
  "language_info": {
   "codemirror_mode": {
    "name": "ipython",
    "version": 3
   },
   "file_extension": ".py",
   "mimetype": "text/x-python",
   "name": "python",
   "nbconvert_exporter": "python",
   "pygments_lexer": "ipython3",
   "version": "3.8.5"
  }
 },
 "nbformat": 4,
 "nbformat_minor": 4
}
