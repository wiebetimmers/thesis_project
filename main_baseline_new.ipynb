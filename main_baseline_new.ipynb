{
 "cells": [
  {
   "cell_type": "markdown",
   "metadata": {},
   "source": [
    "## Baseline Model - RNN with complete backpropagation\n",
    "- Using a RNN with 2 linear layers , with LogSoftMax as activation function. \n",
    "- Performing classification on the Digits dataset from sklearn.\n",
    "- Results measured in logg loss (sum) and accuracy. \n",
    "\n",
    "Code (inspiration) I used :\n",
    "- https://pytorch.org/tutorials/intermediate/char_rnn_classification_tutorial.html\n",
    "- https://towardsdatascience.com/handwritten-digit-mnist-pytorch-977b5338e627 \n",
    "- Especially a lot of the code on github: https://github.com/jmtomczak/intro_dgm \n",
    "\n",
    "Errors i ran in to:\n",
    "- https://nieznanm.medium.com/runtimeerror-one-of-the-variables-needed-for-gradient-computation-has-been-modified-by-an-inplace-85d0d207623\n",
    "\n"
   ]
  },
  {
   "cell_type": "code",
   "execution_count": 175,
   "metadata": {},
   "outputs": [],
   "source": [
    "import matplotlib.pyplot as plt\n",
    "import torch\n",
    "import torch.nn as nn\n",
    "import torch.nn.functional as F\n",
    "import torch.optim as optim\n",
    "from sklearn.datasets import load_digits\n",
    "from sklearn import datasets\n",
    "import numpy as np\n",
    "import os, sys, tarfile\n",
    "import requests\n",
    "import shutil\n",
    "import torchvision\n",
    "import numpy as np\n",
    "from PIL import Image\n",
    "from torchvision import transforms\n",
    "from torch.utils.data import random_split\n",
    "from torch.utils.data import Dataset, DataLoader\n",
    "from torch.utils.data.sampler import SubsetRandomSampler\n",
    "import random\n",
    "from pytorch_model_summary import summary"
   ]
  },
  {
   "cell_type": "markdown",
   "metadata": {},
   "source": [
    "### The Digits Dataset:"
   ]
  },
  {
   "cell_type": "code",
   "execution_count": 176,
   "metadata": {},
   "outputs": [],
   "source": [
    "class Digits(Dataset):\n",
    "    \"\"\"Scikit-Learn Digits dataset.\"\"\"\n",
    "\n",
    "    def __init__(self, mode='train', transforms=None):\n",
    "        digits = load_digits()\n",
    "        if mode == 'train':\n",
    "            self.data = digits.data[:1000].astype(np.float32)\n",
    "            self.targets = digits.target[:1000]\n",
    "        elif mode == 'val':\n",
    "            self.data = digits.data[1000:1350].astype(np.float32)\n",
    "            self.targets = digits.target[1000:1350]\n",
    "        else:\n",
    "            self.data = digits.data[1350:].astype(np.float32)\n",
    "            self.targets = digits.target[1350:]\n",
    "        \n",
    "        self.transforms = transforms\n",
    "        self.target_names = digits.target_names\n",
    "\n",
    "    def __len__(self):\n",
    "        return len(self.data)\n",
    "\n",
    "    def __getitem__(self, idx):\n",
    "        sample_x = self.data[idx]\n",
    "        sample_y = self.targets[idx]\n",
    "        if self.transforms:\n",
    "            sample_x = self.transforms(sample_x)\n",
    "        return (sample_x, sample_y)\n",
    "    "
   ]
  },
  {
   "cell_type": "code",
   "execution_count": 177,
   "metadata": {},
   "outputs": [],
   "source": [
    "# Initiliazing the data loaders for the digits dataset. \n",
    "\n",
    "train_data = Digits(mode='train')\n",
    "val_data = Digits(mode='val')\n",
    "test_data = Digits(mode='test')\n",
    "\n",
    "LABELS = train_data.target_names\n",
    "\n",
    "train_loader = DataLoader(train_data, batch_size=50, shuffle=True)\n",
    "val_loader = DataLoader(val_data, batch_size=50, shuffle=False)\n",
    "test_loader = DataLoader(test_data, batch_size=50, shuffle=False)\n",
    "\n",
    "result_dir = 'results_baseline_wiebe/'\n",
    "if not(os.path.exists(result_dir)):\n",
    "    os.mkdir(result_dir)\n"
   ]
  },
  {
   "cell_type": "code",
   "execution_count": 178,
   "metadata": {},
   "outputs": [
    {
     "name": "stdout",
     "output_type": "stream",
     "text": [
      "447\n"
     ]
    },
    {
     "data": {
      "text/plain": [
       "<matplotlib.image.AxesImage at 0x1242966e940>"
      ]
     },
     "execution_count": 178,
     "metadata": {},
     "output_type": "execute_result"
    },
    {
     "data": {
      "image/png": "[encoded data removed]",
      "text/plain": [
       "<Figure size 432x288 with 1 Axes>"
      ]
     },
     "metadata": {
      "needs_background": "light"
     },
     "output_type": "display_data"
    }
   ],
   "source": [
    "# Print an example digit and its according target label. - (digits dataset)\n",
    "\n",
    "print(len(test_data.targets))\n",
    "plottable_image = np.reshape(train_data.data[90], (8, 8))\n",
    "plt.imshow(plottable_image, cmap='gray')"
   ]
  },
  {
   "cell_type": "markdown",
   "metadata": {},
   "source": [
    "### The MNIST dataset"
   ]
  },
  {
   "cell_type": "code",
   "execution_count": 164,
   "metadata": {},
   "outputs": [],
   "source": [
    "class MNIST(Dataset):\n",
    "    \"\"\"Complete MNIST dataset.\"\"\"\n",
    "\n",
    "    def __init__(self, mode='train', transforms=None):\n",
    "        data_set_train = torchvision.datasets.MNIST('/files/', train=True, download=True,\n",
    "                             transform=torchvision.transforms.Compose([\n",
    "                               torchvision.transforms.ToTensor(),\n",
    "                               torchvision.transforms.Normalize(\n",
    "                                 (0.1307,), (0.3081,))\n",
    "                             ]))\n",
    "\n",
    "        data_set_test = torchvision.datasets.MNIST('/files/', train=False, download=True,\n",
    "                             transform=torchvision.transforms.Compose([\n",
    "                               torchvision.transforms.ToTensor(),\n",
    "                               torchvision.transforms.Normalize(\n",
    "                                 (0.1307,), (0.3081,))\n",
    "                             ]))\n",
    "        self.data = []\n",
    "        self.targets = []\n",
    "        \n",
    "        if mode == 'train':\n",
    "            for i in range(50000):\n",
    "                self.data.append(data_set_train[i][0].numpy())\n",
    "                self.targets.append(data_set_train[i][1])\n",
    "        elif mode == 'val':\n",
    "            for i in range(50000, 60000):\n",
    "                self.data.append(data_set_train[i][0].numpy())\n",
    "                self.targets.append(data_set_train[i][1])\n",
    "        else:\n",
    "            for i in range(len(data_set_test)):\n",
    "                self.data.append(data_set_test[i][0].numpy())\n",
    "                self.targets.append(data_set_test[i][1])\n",
    "        \n",
    "        self.targets = np.array(self.targets)\n",
    "        self.data = np.array(self.data)\n",
    "        self.transforms = transforms\n",
    "\n",
    "    def __len__(self):\n",
    "        return len(self.data)\n",
    "\n",
    "    def __getitem__(self, idx):\n",
    "        sample_x = self.data[idx]\n",
    "        sample_y = self.targets[idx]\n",
    "        if self.transforms:\n",
    "            sample_x = self.transforms(sample_x)\n",
    "        return (sample_x, sample_y)"
   ]
  },
  {
   "cell_type": "code",
   "execution_count": 165,
   "metadata": {},
   "outputs": [],
   "source": [
    "# Load in the MNIST dataset - (takes longer to load than Digits!, 6)\n",
    "train_data_mnist = MNIST(mode='train')\n",
    "val_data_mnist = MNIST(mode='val')\n",
    "test_data_mnist = MNIST(mode='test')\n",
    "\n",
    "train_loader_mnist = DataLoader(train_data_mnist, batch_size=50, shuffle=True)\n",
    "val_loader_mnist = DataLoader(val_data_mnist, batch_size=50, shuffle=True)\n",
    "test_loader_mnist = DataLoader(test_data_mnist, batch_size=50, shuffle=False)"
   ]
  },
  {
   "cell_type": "code",
   "execution_count": 166,
   "metadata": {},
   "outputs": [
    {
     "name": "stdout",
     "output_type": "stream",
     "text": [
      "1\n"
     ]
    },
    {
     "data": {
      "text/plain": [
       "<matplotlib.image.AxesImage at 0x12426486610>"
      ]
     },
     "execution_count": 166,
     "metadata": {},
     "output_type": "execute_result"
    },
    {
     "data": {
      "image/png": "[encoded data removed]",
      "text/plain": [
       "<Figure size 432x288 with 1 Axes>"
      ]
     },
     "metadata": {
      "needs_background": "light"
     },
     "output_type": "display_data"
    }
   ],
   "source": [
    "# Print an example MNIST digit and its according target label. - (digits dataset)\n",
    "\n",
    "print(val_data_mnist.targets[1900])\n",
    "plottable_image = np.reshape(val_data_mnist.data[1900], (28, 28))\n",
    "plt.imshow(plottable_image, cmap='gray')"
   ]
  },
  {
   "cell_type": "markdown",
   "metadata": {},
   "source": [
    "### The Baseline RNN "
   ]
  },
  {
   "cell_type": "code",
   "execution_count": 224,
   "metadata": {},
   "outputs": [],
   "source": [
    "class RNN(nn.Module):\n",
    "    def __init__(self, input_size, hidden_size, output_size, dataset_MNIST = False):\n",
    "        super(RNN, self).__init__()\n",
    "        self.hidden_size = hidden_size\n",
    "        self.i2h = nn.Linear(input_size + hidden_size, hidden_size)\n",
    "        self.i2o = nn.Linear(input_size + hidden_size, output_size)\n",
    "        self.softmax = nn.LogSoftmax(dim=1)\n",
    "        \n",
    "        self.mnist = dataset_MNIST\n",
    "\n",
    "    def forward(self, input, hidden):\n",
    "        \n",
    "        # If we use the Digits dataset\n",
    "        if self.mnist == False:\n",
    "            if input.size()[0] != 50:\n",
    "                # Adjust the hidden state to make it fit with a batch that is not equal to 50:\n",
    "                hidden_adj = torch.narrow(hidden, 0, (50-1-input.size()[0]), input.size()[0])\n",
    "                combined = torch.cat((input, hidden_adj), 1)  \n",
    "            else:\n",
    "                combined = torch.cat((input, hidden), 1)  \n",
    "        \n",
    "        # If we use the MNIST dataset - squeeze the MNIST Tensor in 2 dimensions \n",
    "        elif self.mnist == True:\n",
    "            three_d_tensor = input.squeeze(1)\n",
    "            two_d_tensor = three_d_tensor.contiguous().view(three_d_tensor.size()[0], -1)  # 28 * 28 pixels = 784\n",
    "            combined = torch.cat((two_d_tensor, hidden), 1)\n",
    "        \n",
    "    \n",
    "        hidden = self.i2h(combined)\n",
    "        output = self.i2o(combined)\n",
    "        output2 = self.softmax(output)\n",
    "        return output2, hidden\n",
    "        \n",
    "\n",
    "    def initHidden(self):\n",
    "        return torch.zeros(50, self.hidden_size)\n"
   ]
  },
  {
   "cell_type": "markdown",
   "metadata": {},
   "source": [
    "## Auxilary functions"
   ]
  },
  {
   "cell_type": "code",
   "execution_count": 225,
   "metadata": {},
   "outputs": [],
   "source": [
    "# Function that transforms the tensor output to a predicted target name. \n",
    "def categoryFromOutput(output):\n",
    "    top_n, top_i = output.topk(1)\n",
    "    category_i = top_i[0].item()\n",
    "    return LABELS[category_i]\n",
    "\n",
    "\n",
    "# Plot both accuracy as log loss. \n",
    "def plot_results(epochs, loss, accuracy):\n",
    "    fig, (ax1, ax2) = plt.subplots(2)\n",
    "    fig.suptitle('Results RNN - Full Backpropagation.')\n",
    "    ax1.set(ylabel='Loss')\n",
    "    ax2.set(ylabel='Accuracy', xlabel='Epochs')\n",
    "    \n",
    "    ax1.plot(epochs, loss)\n",
    "    ax2.plot(epochs, accuracy)\n",
    "    \n",
    "\n",
    "    plt.savefig('results_rnn_baseline.png', bbox_inches='tight')\n",
    "    #plt.close()\n",
    "\n",
    "\n",
    "# Concatenating the results of all (64*)batches in the lists, calculating the total accuracy. \n",
    "def accuracy(pred_targets_list, gold_targets_list):\n",
    "    total_correct = 0\n",
    "    total_amount = 0\n",
    "    \n",
    "    zip_list = zip(pred_targets_list, gold_targets_list)\n",
    "    for pred_targets, gold_targets in zip_list:\n",
    "        total_correct += (pred_targets == gold_targets).float().sum()\n",
    "        total_amount += len(pred_targets)\n",
    "    \n",
    "    accuracy = 100 * total_correct / total_amount\n",
    "\n",
    "    return accuracy.item()\n",
    "\n",
    "# Evaluation -> used for validation and test set. \n",
    "def evaluation(val_loader, model, epoch, loss_function):\n",
    "    hidden = model.initHidden()\n",
    "    \n",
    "    #Evaluating our performance so far\n",
    "    model.eval()\n",
    "    \n",
    "    # Store all results in a list to calculate the accuracy. \n",
    "    pred_target_total_acc = []\n",
    "    target_total_acc = []\n",
    "    \n",
    "    # Initliaze dataset size and loss\n",
    "    loss = 0.\n",
    "    N = 0.\n",
    "    \n",
    "    # Iterating over the validation set batches, acquiring tensor formatted results. \n",
    "    for indx_batch, (batch, targets) in enumerate(val_loader):\n",
    "        \n",
    "        output, hidden = model.forward(batch, hidden)\n",
    "        pred_targets = np.array([])\n",
    "        for item in output:\n",
    "            pred_targets = np.append(pred_targets, categoryFromOutput(item))\n",
    "        pred_targets = torch.from_numpy(pred_targets).int()\n",
    "        \n",
    "        # Calculating loss\n",
    "        loss_t = loss_function(output, targets.long())\n",
    "        loss = loss + loss_t.item()\n",
    "        N = N + batch.shape[0]\n",
    "        \n",
    "        #Append the batch result to a list of all results\n",
    "        pred_target_total_acc.append(pred_targets)\n",
    "        target_total_acc.append(targets)\n",
    "    \n",
    "    # Store the loss corrected by its size\n",
    "    loss = loss / N   \n",
    "        \n",
    "    total_accuracy = accuracy(pred_target_total_acc, target_total_acc)\n",
    "    print('Epoch: %s - Loss of: %s - Accuracy of: %s' %(epoch, loss,total_accuracy))\n",
    "    \n",
    "    return epoch, loss, total_accuracy"
   ]
  },
  {
   "cell_type": "code",
   "execution_count": 226,
   "metadata": {},
   "outputs": [],
   "source": [
    "def training(model, train_loader, val_loader, num_epochs, optimizer, loss_function, max_loss_iter):\n",
    "    \n",
    "    print('Training started for %s epochs.'  %(num_epochs))\n",
    "    epochs = []\n",
    "    accuracy_results = []\n",
    "    loss_results = []\n",
    "    best_loss = 10000 # Picking random high number to assure correct functionality\n",
    "    loss_iter = 0\n",
    "    t = 0 \n",
    "    \n",
    "    # Initialize hidden layers\n",
    "    \n",
    "    # Used for error detection\n",
    "    #torch.autograd.set_detect_anomaly(True)\n",
    "\n",
    "    for epoch in range(num_epochs):\n",
    "        # Training\n",
    "        \n",
    "        # Initialize hidden layers\n",
    "        hidden = model.initHidden()\n",
    "        model.train()\n",
    "        \n",
    "        # Processing batch by batch\n",
    "        for indx_batch, (batch, targets) in enumerate(train_loader):\n",
    "\n",
    "            # Previously: Inplace error \n",
    "            # Hidden layer updated after every batch input\n",
    "            output, hidden = model.forward(batch, hidden)\n",
    "            \n",
    "            targets = targets.long()\n",
    "            \n",
    "            loss = loss_function(output, targets)\n",
    "            \n",
    "            # Optional print of loss per batch\n",
    "            #print('Loss in batch %s is: %s' %(indx_batch, loss))\n",
    "        \n",
    "        #Perform back prop after each epoch\n",
    "        optimizer.zero_grad()\n",
    "        loss.backward(retain_graph=True)\n",
    "        optimizer.step()   \n",
    "\n",
    "        # Perform evaluation after each epoch\n",
    "        epoch, loss_eval, accuracy_eval = evaluation(val_loader, model, epoch, loss_function)\n",
    "        epochs.append(epoch)\n",
    "        accuracy_results.append(accuracy_eval)\n",
    "        loss_results.append(loss_eval)\n",
    "        \n",
    "        if epoch == 0:\n",
    "            print('* Saving 1st epoch model *')\n",
    "            torch.save(model, 'trained.model')\n",
    "            best_loss = loss_eval\n",
    "        else:\n",
    "            if loss_eval < best_loss:\n",
    "                print('* Saving new best model *')\n",
    "                torch.save(model, 'trained.model')\n",
    "                best_loss = loss_eval\n",
    "                loss_iter = 0\n",
    "            else:\n",
    "                loss_iter += 1\n",
    "        \n",
    "        # If loss has not improved for an arbitrary amount of epochs:\n",
    "        if loss_iter > max_loss_iter:\n",
    "            break\n",
    "    \n",
    "    plot_results(epochs, loss_results, accuracy_results)\n",
    "    \n",
    "    return model\n",
    "\n"
   ]
  },
  {
   "cell_type": "markdown",
   "metadata": {},
   "source": [
    "## Parameter set-up"
   ]
  },
  {
   "cell_type": "code",
   "execution_count": 227,
   "metadata": {},
   "outputs": [],
   "source": [
    "INPUT_SIZE_DIGITS = 64  # 8 * 8 pixels\n",
    "INPUT_SIZE_MNIST = 784  # 28 * 28 pixels\n",
    "BATCH_SIZE = 50 \n",
    "n_hidden = 128\n",
    "n_labels = 10\n",
    "n_epochs = 100\n",
    "lr_SGD = 0.0006\n",
    "momentum_SGD = 0.9\n",
    "max_loss_iter = 10"
   ]
  },
  {
   "cell_type": "markdown",
   "metadata": {},
   "source": [
    "## Initialize model/optimizer/loss_function. Start training."
   ]
  },
  {
   "cell_type": "code",
   "execution_count": 228,
   "metadata": {},
   "outputs": [
    {
     "name": "stdout",
     "output_type": "stream",
     "text": [
      "Training started for 100 epochs.\n",
      "Epoch: 0 - Loss of: 0.08131360598972866 - Accuracy of: 6.285714149475098\n",
      "* Saving 1st epoch model *\n",
      "Epoch: 1 - Loss of: 0.07624500342777797 - Accuracy of: 7.142857074737549\n",
      "* Saving new best model *\n",
      "Epoch: 2 - Loss of: 0.07298173427581787 - Accuracy of: 6.5714287757873535\n",
      "* Saving new best model *\n",
      "Epoch: 3 - Loss of: 0.0707978868484497 - Accuracy of: 8.571428298950195\n",
      "* Saving new best model *\n",
      "Epoch: 4 - Loss of: 0.06974592072623116 - Accuracy of: 13.142857551574707\n",
      "* Saving new best model *\n",
      "Epoch: 5 - Loss of: 0.06967515809195382 - Accuracy of: 16.0\n",
      "* Saving new best model *\n",
      "Epoch: 6 - Loss of: 0.06717935153416225 - Accuracy of: 17.714284896850586\n",
      "* Saving new best model *\n",
      "Epoch: 7 - Loss of: 0.06189071791512626 - Accuracy of: 19.428571701049805\n",
      "* Saving new best model *\n",
      "Epoch: 8 - Loss of: 0.055778920309884204 - Accuracy of: 22.285715103149414\n",
      "* Saving new best model *\n",
      "Epoch: 9 - Loss of: 0.05026982579912458 - Accuracy of: 26.285715103149414\n",
      "* Saving new best model *\n",
      "Epoch: 10 - Loss of: 0.046088158062526155 - Accuracy of: 31.14285659790039\n",
      "* Saving new best model *\n",
      "Epoch: 11 - Loss of: 0.04348080771309989 - Accuracy of: 32.0\n",
      "* Saving new best model *\n",
      "Epoch: 12 - Loss of: 0.041132663999285016 - Accuracy of: 32.57143020629883\n",
      "* Saving new best model *\n",
      "Epoch: 13 - Loss of: 0.037180421692984446 - Accuracy of: 37.42856979370117\n",
      "* Saving new best model *\n",
      "Epoch: 14 - Loss of: 0.033046320506504606 - Accuracy of: 43.14285659790039\n",
      "* Saving new best model *\n",
      "Epoch: 15 - Loss of: 0.0299488936151777 - Accuracy of: 48.57143020629883\n",
      "* Saving new best model *\n",
      "Epoch: 16 - Loss of: 0.027562176840645925 - Accuracy of: 51.14285659790039\n",
      "* Saving new best model *\n",
      "Epoch: 17 - Loss of: 0.025150140013013567 - Accuracy of: 56.57143020629883\n",
      "* Saving new best model *\n",
      "Epoch: 18 - Loss of: 0.02292956062725612 - Accuracy of: 59.14285659790039\n",
      "* Saving new best model *\n",
      "Epoch: 19 - Loss of: 0.021339951072420392 - Accuracy of: 62.57143020629883\n",
      "* Saving new best model *\n",
      "Epoch: 20 - Loss of: 0.02038054926054818 - Accuracy of: 64.28571319580078\n",
      "* Saving new best model *\n",
      "Epoch: 21 - Loss of: 0.019640960693359376 - Accuracy of: 65.42857360839844\n",
      "* Saving new best model *\n",
      "Epoch: 22 - Loss of: 0.018718718120029995 - Accuracy of: 66.57142639160156\n",
      "* Saving new best model *\n",
      "Epoch: 23 - Loss of: 0.01691815035683768 - Accuracy of: 71.71428680419922\n",
      "* Saving new best model *\n",
      "Epoch: 24 - Loss of: 0.01555037157876151 - Accuracy of: 75.14286041259766\n",
      "* Saving new best model *\n",
      "Epoch: 25 - Loss of: 0.014649363585880825 - Accuracy of: 76.85713958740234\n",
      "* Saving new best model *\n",
      "Epoch: 26 - Loss of: 0.014304884672164918 - Accuracy of: 77.42857360839844\n",
      "* Saving new best model *\n",
      "Epoch: 27 - Loss of: 0.014168149062565395 - Accuracy of: 75.71428680419922\n",
      "* Saving new best model *\n",
      "Epoch: 28 - Loss of: 0.014159373726163592 - Accuracy of: 75.42857360839844\n",
      "* Saving new best model *\n",
      "Epoch: 29 - Loss of: 0.01358097859791347 - Accuracy of: 76.57142639160156\n",
      "* Saving new best model *\n",
      "Epoch: 30 - Loss of: 0.012663632546152387 - Accuracy of: 79.14286041259766\n",
      "* Saving new best model *\n",
      "Epoch: 31 - Loss of: 0.011834962027413505 - Accuracy of: 80.57142639160156\n",
      "* Saving new best model *\n",
      "Epoch: 32 - Loss of: 0.01115085984979357 - Accuracy of: 83.14286041259766\n",
      "* Saving new best model *\n",
      "Epoch: 33 - Loss of: 0.010736108422279358 - Accuracy of: 83.14286041259766\n",
      "* Saving new best model *\n",
      "Epoch: 34 - Loss of: 0.010466994643211365 - Accuracy of: 83.42857360839844\n",
      "* Saving new best model *\n",
      "Epoch: 35 - Loss of: 0.01011574753693172 - Accuracy of: 83.71428680419922\n",
      "* Saving new best model *\n",
      "Epoch: 36 - Loss of: 0.009806587100028992 - Accuracy of: 85.14286041259766\n",
      "* Saving new best model *\n",
      "Epoch: 37 - Loss of: 0.009428746955735343 - Accuracy of: 87.42857360839844\n",
      "* Saving new best model *\n",
      "Epoch: 38 - Loss of: 0.009042548963001796 - Accuracy of: 87.71428680419922\n",
      "* Saving new best model *\n",
      "Epoch: 39 - Loss of: 0.008747790881565638 - Accuracy of: 87.71428680419922\n",
      "* Saving new best model *\n",
      "Epoch: 40 - Loss of: 0.008644941449165344 - Accuracy of: 87.42857360839844\n",
      "* Saving new best model *\n",
      "Epoch: 41 - Loss of: 0.00859314807823726 - Accuracy of: 86.28571319580078\n",
      "* Saving new best model *\n",
      "Epoch: 42 - Loss of: 0.008553332856723241 - Accuracy of: 86.0\n",
      "* Saving new best model *\n",
      "Epoch: 43 - Loss of: 0.008392308609826224 - Accuracy of: 86.57142639160156\n",
      "* Saving new best model *\n",
      "Epoch: 44 - Loss of: 0.008192713175501142 - Accuracy of: 87.42857360839844\n",
      "* Saving new best model *\n",
      "Epoch: 45 - Loss of: 0.0079936774287905 - Accuracy of: 88.0\n",
      "* Saving new best model *\n",
      "Epoch: 46 - Loss of: 0.007809073414121355 - Accuracy of: 88.28571319580078\n",
      "* Saving new best model *\n",
      "Epoch: 47 - Loss of: 0.007675613675798688 - Accuracy of: 88.57142639160156\n",
      "* Saving new best model *\n",
      "Epoch: 48 - Loss of: 0.00762641864163535 - Accuracy of: 88.28571319580078\n",
      "* Saving new best model *\n",
      "Epoch: 49 - Loss of: 0.00759964040347508 - Accuracy of: 88.85713958740234\n",
      "* Saving new best model *\n",
      "Epoch: 50 - Loss of: 0.00753537722996303 - Accuracy of: 89.14286041259766\n",
      "* Saving new best model *\n",
      "Epoch: 51 - Loss of: 0.007430504390171596 - Accuracy of: 89.14286041259766\n",
      "* Saving new best model *\n",
      "Epoch: 52 - Loss of: 0.00735164327280862 - Accuracy of: 89.14286041259766\n",
      "* Saving new best model *\n",
      "Epoch: 53 - Loss of: 0.007271232945578439 - Accuracy of: 89.14286041259766\n",
      "* Saving new best model *\n",
      "Epoch: 54 - Loss of: 0.007251275266919818 - Accuracy of: 89.42857360839844\n",
      "* Saving new best model *\n",
      "Epoch: 55 - Loss of: 0.007204312682151794 - Accuracy of: 89.42857360839844\n",
      "* Saving new best model *\n",
      "Epoch: 56 - Loss of: 0.007132382350308554 - Accuracy of: 89.71428680419922\n",
      "* Saving new best model *\n",
      "Epoch: 57 - Loss of: 0.007029748686722347 - Accuracy of: 89.71428680419922\n",
      "* Saving new best model *\n",
      "Epoch: 58 - Loss of: 0.006928391243730273 - Accuracy of: 90.28571319580078\n",
      "* Saving new best model *\n",
      "Epoch: 59 - Loss of: 0.0068825111218861175 - Accuracy of: 90.85713958740234\n",
      "* Saving new best model *\n",
      "Epoch: 60 - Loss of: 0.006864299518721444 - Accuracy of: 91.42857360839844\n",
      "* Saving new best model *\n",
      "Epoch: 61 - Loss of: 0.006833404260022299 - Accuracy of: 90.0\n",
      "* Saving new best model *\n",
      "Epoch: 62 - Loss of: 0.006817079186439514 - Accuracy of: 90.0\n",
      "* Saving new best model *\n",
      "Epoch: 63 - Loss of: 0.006791090284075056 - Accuracy of: 89.71428680419922\n",
      "* Saving new best model *\n",
      "Epoch: 64 - Loss of: 0.0067668337055615015 - Accuracy of: 89.42857360839844\n",
      "* Saving new best model *\n",
      "Epoch: 65 - Loss of: 0.006728899351188115 - Accuracy of: 89.71428680419922\n",
      "* Saving new best model *\n",
      "Epoch: 66 - Loss of: 0.006650361503873553 - Accuracy of: 91.14286041259766\n",
      "* Saving new best model *\n",
      "Epoch: 67 - Loss of: 0.006645273353372301 - Accuracy of: 90.28571319580078\n",
      "* Saving new best model *\n",
      "Epoch: 68 - Loss of: 0.00659997045993805 - Accuracy of: 90.0\n",
      "* Saving new best model *\n",
      "Epoch: 69 - Loss of: 0.0065484195947647095 - Accuracy of: 90.28571319580078\n",
      "* Saving new best model *\n",
      "Epoch: 70 - Loss of: 0.006431194160665785 - Accuracy of: 91.14286041259766\n",
      "* Saving new best model *\n",
      "Epoch: 71 - Loss of: 0.0063399312325886316 - Accuracy of: 91.71428680419922\n",
      "* Saving new best model *\n",
      "Epoch: 72 - Loss of: 0.006240002385207585 - Accuracy of: 91.42857360839844\n",
      "* Saving new best model *\n",
      "Epoch: 73 - Loss of: 0.006174481213092804 - Accuracy of: 91.71428680419922\n",
      "* Saving new best model *\n",
      "Epoch: 74 - Loss of: 0.006099248485905783 - Accuracy of: 91.42857360839844\n",
      "* Saving new best model *\n",
      "Epoch: 75 - Loss of: 0.006034504643508366 - Accuracy of: 90.85713958740234\n",
      "* Saving new best model *\n",
      "Epoch: 76 - Loss of: 0.006018817339624677 - Accuracy of: 91.14286041259766\n",
      "* Saving new best model *\n",
      "Epoch: 77 - Loss of: 0.005989392016615186 - Accuracy of: 91.42857360839844\n",
      "* Saving new best model *\n",
      "Epoch: 78 - Loss of: 0.0059872686862945555 - Accuracy of: 91.71428680419922\n",
      "* Saving new best model *\n",
      "Epoch: 79 - Loss of: 0.005939928378377642 - Accuracy of: 91.71428680419922\n",
      "* Saving new best model *\n",
      "Epoch: 80 - Loss of: 0.005885010915143149 - Accuracy of: 92.0\n",
      "* Saving new best model *\n",
      "Epoch: 81 - Loss of: 0.0058354870762143815 - Accuracy of: 91.71428680419922\n",
      "* Saving new best model *\n",
      "Epoch: 82 - Loss of: 0.0057652704630579265 - Accuracy of: 92.0\n",
      "* Saving new best model *\n",
      "Epoch: 83 - Loss of: 0.005729346871376038 - Accuracy of: 91.42857360839844\n",
      "* Saving new best model *\n",
      "Epoch: 84 - Loss of: 0.005674901008605957 - Accuracy of: 91.42857360839844\n",
      "* Saving new best model *\n",
      "Epoch: 85 - Loss of: 0.0056337418300764905 - Accuracy of: 91.14286041259766\n",
      "* Saving new best model *\n",
      "Epoch: 86 - Loss of: 0.005612861556666238 - Accuracy of: 91.71428680419922\n",
      "* Saving new best model *\n"
     ]
    },
    {
     "name": "stdout",
     "output_type": "stream",
     "text": [
      "Epoch: 87 - Loss of: 0.005653397866657802 - Accuracy of: 91.71428680419922\n",
      "Epoch: 88 - Loss of: 0.005714164418833596 - Accuracy of: 91.42857360839844\n",
      "Epoch: 89 - Loss of: 0.005740251115390233 - Accuracy of: 91.42857360839844\n",
      "Epoch: 90 - Loss of: 0.005758753504071917 - Accuracy of: 91.14286041259766\n",
      "Epoch: 91 - Loss of: 0.0057866852624075754 - Accuracy of: 91.42857360839844\n",
      "Epoch: 92 - Loss of: 0.005827119350433349 - Accuracy of: 90.57142639160156\n",
      "Epoch: 93 - Loss of: 0.005917038406644549 - Accuracy of: 90.0\n",
      "Epoch: 94 - Loss of: 0.006014984931264605 - Accuracy of: 90.28571319580078\n",
      "Epoch: 95 - Loss of: 0.006106818403516497 - Accuracy of: 90.28571319580078\n",
      "Epoch: 96 - Loss of: 0.0062754075016294205 - Accuracy of: 90.0\n",
      "Epoch: 97 - Loss of: 0.006448880306312016 - Accuracy of: 89.71428680419922\n"
     ]
    },
    {
     "data": {
      "image/png": "[encoded data removed]",
      "text/plain": [
       "<Figure size 432x288 with 2 Axes>"
      ]
     },
     "metadata": {
      "needs_background": "light"
     },
     "output_type": "display_data"
    }
   ],
   "source": [
    "# Perform training on the DIGITS dataset\n",
    "model = RNN(INPUT_SIZE_DIGITS, n_hidden, n_labels, dataset_MNIST = False)\n",
    "optimizer = optim.SGD([p for p in model.parameters() if p.requires_grad == True], lr=lr_SGD, momentum=momentum_SGD)\n",
    "loss_function = nn.NLLLoss(reduction='mean') # Mean is also possible.\n",
    "\n",
    "trained_model = training(model, train_loader, val_loader, n_epochs, optimizer, loss_function, max_loss_iter)\n"
   ]
  },
  {
   "cell_type": "code",
   "execution_count": 229,
   "metadata": {},
   "outputs": [
    {
     "name": "stdout",
     "output_type": "stream",
     "text": [
      "Training started for 100 epochs.\n",
      "Epoch: 0 - Loss of: 0.0480230352640152 - Accuracy of: 9.260000228881836\n",
      "* Saving 1st epoch model *\n",
      "Epoch: 1 - Loss of: 0.04801539144515991 - Accuracy of: 9.460000038146973\n",
      "* Saving new best model *\n",
      "Epoch: 2 - Loss of: 0.048053333163261415 - Accuracy of: 9.390000343322754\n",
      "Epoch: 3 - Loss of: 0.04802769033908844 - Accuracy of: 9.3100004196167\n",
      "Epoch: 4 - Loss of: 0.04806001138687134 - Accuracy of: 9.119999885559082\n",
      "Epoch: 5 - Loss of: 0.04801925559043884 - Accuracy of: 9.359999656677246\n",
      "Epoch: 6 - Loss of: 0.04805154564380646 - Accuracy of: 9.1899995803833\n",
      "Epoch: 7 - Loss of: 0.04802788844108582 - Accuracy of: 9.289999961853027\n",
      "Epoch: 8 - Loss of: 0.048037367725372315 - Accuracy of: 9.539999961853027\n",
      "Epoch: 9 - Loss of: 0.048063162302970884 - Accuracy of: 9.270000457763672\n",
      "Epoch: 10 - Loss of: 0.04803864133358002 - Accuracy of: 9.449999809265137\n",
      "Epoch: 11 - Loss of: 0.04803843879699707 - Accuracy of: 9.300000190734863\n",
      "Epoch: 12 - Loss of: 0.04800799310207367 - Accuracy of: 9.619999885559082\n",
      "* Saving new best model *\n",
      "Epoch: 13 - Loss of: 0.048032172870635985 - Accuracy of: 9.289999961853027\n",
      "Epoch: 14 - Loss of: 0.04801196563243866 - Accuracy of: 9.34000015258789\n",
      "Epoch: 15 - Loss of: 0.0480032910823822 - Accuracy of: 9.369999885559082\n",
      "* Saving new best model *\n",
      "Epoch: 16 - Loss of: 0.04805972592830658 - Accuracy of: 9.239999771118164\n",
      "Epoch: 17 - Loss of: 0.04802194352149963 - Accuracy of: 9.229999542236328\n",
      "Epoch: 18 - Loss of: 0.04803749191761017 - Accuracy of: 9.390000343322754\n",
      "Epoch: 19 - Loss of: 0.048016628742218015 - Accuracy of: 9.600000381469727\n",
      "Epoch: 20 - Loss of: 0.04805303907394409 - Accuracy of: 9.479999542236328\n",
      "Epoch: 21 - Loss of: 0.04801086974143982 - Accuracy of: 9.529999732971191\n",
      "Epoch: 22 - Loss of: 0.04806172165870667 - Accuracy of: 9.260000228881836\n",
      "Epoch: 23 - Loss of: 0.048058504247665404 - Accuracy of: 9.109999656677246\n",
      "Epoch: 24 - Loss of: 0.04802773470878601 - Accuracy of: 9.109999656677246\n",
      "Epoch: 25 - Loss of: 0.04806004528999329 - Accuracy of: 9.199999809265137\n",
      "Epoch: 26 - Loss of: 0.04800020956993103 - Accuracy of: 9.5\n",
      "* Saving new best model *\n",
      "Epoch: 27 - Loss of: 0.04803236119747162 - Accuracy of: 9.420000076293945\n",
      "Epoch: 28 - Loss of: 0.04803744568824768 - Accuracy of: 9.399999618530273\n",
      "Epoch: 29 - Loss of: 0.04803103506565094 - Accuracy of: 9.239999771118164\n",
      "Epoch: 30 - Loss of: 0.048032482099533085 - Accuracy of: 9.380000114440918\n",
      "Epoch: 31 - Loss of: 0.04802290382385254 - Accuracy of: 9.15999984741211\n",
      "Epoch: 32 - Loss of: 0.04804535846710205 - Accuracy of: 9.420000076293945\n",
      "Epoch: 33 - Loss of: 0.04804300765991211 - Accuracy of: 9.399999618530273\n",
      "Epoch: 34 - Loss of: 0.048032546281814574 - Accuracy of: 9.460000038146973\n",
      "Epoch: 35 - Loss of: 0.0480200216293335 - Accuracy of: 9.199999809265137\n",
      "Epoch: 36 - Loss of: 0.04804221103191376 - Accuracy of: 9.279999732971191\n",
      "Epoch: 37 - Loss of: 0.048044047260284425 - Accuracy of: 9.210000038146973\n"
     ]
    },
    {
     "data": {
      "image/png": "[encoded data removed]",
      "text/plain": [
       "<Figure size 432x288 with 2 Axes>"
      ]
     },
     "metadata": {
      "needs_background": "light"
     },
     "output_type": "display_data"
    }
   ],
   "source": [
    "# Perform training on the MNIST dataset\n",
    "model_mnist = RNN(INPUT_SIZE_MNIST, n_hidden, n_labels, dataset_MNIST = True)\n",
    "optimizer = optim.SGD([p for p in model.parameters() if p.requires_grad == True], lr=0.5, momentum=0.9)\n",
    "loss_function_mnist = nn.NLLLoss(reduction='mean') # Mean is also possible.\n",
    "\n",
    "trained_model_mnist = training(model_mnist, train_loader_mnist, val_loader_mnist, n_epochs, optimizer, loss_function_mnist, max_loss_iter)"
   ]
  },
  {
   "cell_type": "code",
   "execution_count": 230,
   "metadata": {},
   "outputs": [
    {
     "name": "stdout",
     "output_type": "stream",
     "text": [
      "-----------------------------------------------------------------------\n",
      "      Layer (type)         Input Shape         Param #     Tr. Param #\n",
      "=======================================================================\n",
      "          Linear-1           [50, 192]          24,704          24,704\n",
      "          Linear-2           [50, 192]           1,930           1,930\n",
      "      LogSoftmax-3            [50, 10]               0               0\n",
      "=======================================================================\n",
      "Total params: 26,634\n",
      "Trainable params: 26,634\n",
      "Non-trainable params: 0\n",
      "-----------------------------------------------------------------------\n"
     ]
    }
   ],
   "source": [
    "# Summary of the RNN model:\n",
    "print(summary(model, torch.zeros(50, 64), model.initHidden(), show_input=True, show_hierarchical=False))"
   ]
  },
  {
   "cell_type": "markdown",
   "metadata": {},
   "source": [
    "## Analyze our performance on the test set:"
   ]
  },
  {
   "cell_type": "code",
   "execution_count": 231,
   "metadata": {},
   "outputs": [
    {
     "name": "stdout",
     "output_type": "stream",
     "text": [
      "Epoch: Final score - Loss of: 0.010471041870597225 - Accuracy of: 83.89261627197266\n"
     ]
    }
   ],
   "source": [
    "test_result = evaluation(test_loader, trained_model, 'Final score', loss_function)"
   ]
  },
  {
   "cell_type": "code",
   "execution_count": 232,
   "metadata": {},
   "outputs": [
    {
     "name": "stdout",
     "output_type": "stream",
     "text": [
      "Epoch: Final score - Loss of: 0.0481892383813858 - Accuracy of: 9.359999656677246\n"
     ]
    }
   ],
   "source": [
    "test_result_mnist = evaluation(test_loader_mnist, trained_model_mnist, 'Final score', loss_function_mnist)"
   ]
  }
 ],
 "metadata": {
  "kernelspec": {
   "display_name": "Python 3",
   "language": "python",
   "name": "python3"
  },
  "language_info": {
   "codemirror_mode": {
    "name": "ipython",
    "version": 3
   },
   "file_extension": ".py",
   "mimetype": "text/x-python",
   "name": "python",
   "nbconvert_exporter": "python",
   "pygments_lexer": "ipython3",
   "version": "3.8.5"
  }
 },
 "nbformat": 4,
 "nbformat_minor": 4
}
