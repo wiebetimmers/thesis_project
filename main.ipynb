{
 "cells": [
  {
   "cell_type": "markdown",
   "metadata": {},
   "source": [
    "## Baseline Model - RNN with complete backpropagation\n",
    "- Using a RNN with 2 linear layers , with LogSoftMax as activation function. \n",
    "- Performing classification on the Digits dataset from sklearn.\n",
    "- Results measured in logg loss (sum) and accuracy. \n",
    "\n",
    "Code (inspiration) I used :\n",
    "- https://pytorch.org/tutorials/intermediate/char_rnn_classification_tutorial.html\n",
    "- https://towardsdatascience.com/handwritten-digit-mnist-pytorch-977b5338e627 \n",
    "- Especially a lot of the code on github: https://github.com/jmtomczak/intro_dgm \n",
    "\n",
    "Errors i ran in to:\n",
    "- https://nieznanm.medium.com/runtimeerror-one-of-the-variables-needed-for-gradient-computation-has-been-modified-by-an-inplace-85d0d207623\n",
    "\n"
   ]
  },
  {
   "cell_type": "code",
   "execution_count": 152,
   "metadata": {},
   "outputs": [],
   "source": [
    "import matplotlib.pyplot as plt\n",
    "import torch\n",
    "import torch.nn as nn\n",
    "import torch.nn.functional as F\n",
    "import torch.optim as optim\n",
    "from sklearn.datasets import load_digits\n",
    "from sklearn import datasets\n",
    "import numpy as np\n",
    "import os, sys, tarfile\n",
    "import requests\n",
    "import shutil\n",
    "import torchvision\n",
    "import numpy as np\n",
    "from PIL import Image\n",
    "from torchvision import transforms\n",
    "from torch.utils.data import random_split\n",
    "from torch.utils.data import Dataset, DataLoader\n",
    "from torch.utils.data.sampler import SubsetRandomSampler\n",
    "import random\n",
    "from pytorch_model_summary import summary"
   ]
  },
  {
   "cell_type": "markdown",
   "metadata": {},
   "source": [
    "### The Digits Dataset:"
   ]
  },
  {
   "cell_type": "code",
   "execution_count": 194,
   "metadata": {},
   "outputs": [],
   "source": [
    "class Digits(Dataset):\n",
    "    \"\"\"Scikit-Learn Digits dataset.\"\"\"\n",
    "\n",
    "    def __init__(self, mode='train', transforms=None):\n",
    "        digits = load_digits()\n",
    "        if mode == 'train':\n",
    "            print(digits.data[1])\n",
    "            self.data = digits.data[:1000].astype(np.float32)\n",
    "            self.targets = digits.target[:1000]\n",
    "        elif mode == 'val':\n",
    "            self.data = digits.data[1000:1350].astype(np.float32)\n",
    "            self.targets = digits.target[1000:1350]\n",
    "        else:\n",
    "            self.data = digits.data[1350:].astype(np.float32)\n",
    "            self.targets = digits.target[1350:]\n",
    "        self.transforms = transforms\n",
    "        self.target_names = digits.target_names\n",
    "\n",
    "    def __len__(self):\n",
    "        return len(self.data)\n",
    "\n",
    "    def __getitem__(self, idx):\n",
    "        sample_x = self.data[idx]\n",
    "        sample_y = self.targets[idx]\n",
    "        if self.transforms:\n",
    "            sample_x = self.transforms(sample_x)\n",
    "        return (sample_x, sample_y)\n",
    "    "
   ]
  },
  {
   "cell_type": "code",
   "execution_count": 195,
   "metadata": {},
   "outputs": [
    {
     "name": "stdout",
     "output_type": "stream",
     "text": [
      "[ 0.  0.  0. 12. 13.  5.  0.  0.  0.  0.  0. 11. 16.  9.  0.  0.  0.  0.\n",
      "  3. 15. 16.  6.  0.  0.  0.  7. 15. 16. 16.  2.  0.  0.  0.  0.  1. 16.\n",
      " 16.  3.  0.  0.  0.  0.  1. 16. 16.  6.  0.  0.  0.  0.  1. 16. 16.  6.\n",
      "  0.  0.  0.  0.  0. 11. 16. 10.  0.  0.]\n"
     ]
    }
   ],
   "source": [
    "# Initiliazing the data loaders for the digits dataset. \n",
    "\n",
    "train_data = Digits(mode='train')\n",
    "val_data = Digits(mode='val')\n",
    "test_data = Digits(mode='test')\n",
    "\n",
    "LABELS = train_data.target_names\n",
    "\n",
    "train_loader = DataLoader(train_data, batch_size=64, shuffle=True)\n",
    "val_loader = DataLoader(val_data, batch_size=64, shuffle=False)\n",
    "test_loader = DataLoader(test_data, batch_size=64, shuffle=False)\n",
    "\n",
    "result_dir = 'results_wiebe/'\n",
    "if not(os.path.exists(result_dir)):\n",
    "    os.mkdir(result_dir)\n"
   ]
  },
  {
   "cell_type": "code",
   "execution_count": 196,
   "metadata": {},
   "outputs": [
    {
     "name": "stdout",
     "output_type": "stream",
     "text": [
      "1\n"
     ]
    },
    {
     "data": {
      "text/plain": [
       "<matplotlib.image.AxesImage at 0x239bcc25880>"
      ]
     },
     "execution_count": 196,
     "metadata": {},
     "output_type": "execute_result"
    },
    {
     "data": {
      "image/png": "[encoded data removed]",
      "text/plain": [
       "<Figure size 432x288 with 1 Axes>"
      ]
     },
     "metadata": {
      "needs_background": "light"
     },
     "output_type": "display_data"
    }
   ],
   "source": [
    "# Print an example digit and its according target label. - (digits dataset)\n",
    "\n",
    "print(train_data.targets[90])\n",
    "plottable_image = np.reshape(train_data.data[90], (8, 8))\n",
    "plt.imshow(plottable_image, cmap='gray')"
   ]
  },
  {
   "cell_type": "markdown",
   "metadata": {},
   "source": [
    "### The MNIST dataset"
   ]
  },
  {
   "cell_type": "code",
   "execution_count": 291,
   "metadata": {},
   "outputs": [],
   "source": [
    "class MNIST(Dataset):\n",
    "    \"\"\"Complete MNIST dataset.\"\"\"\n",
    "\n",
    "    def __init__(self, mode='train', transforms=None):\n",
    "        data_set_train = torchvision.datasets.MNIST('/files/', train=True, download=True,\n",
    "                             transform=torchvision.transforms.Compose([\n",
    "                               torchvision.transforms.ToTensor(),\n",
    "                               torchvision.transforms.Normalize(\n",
    "                                 (0.1307,), (0.3081,))\n",
    "                             ]))\n",
    "\n",
    "        data_set_test = torchvision.datasets.MNIST('/files/', train=False, download=True,\n",
    "                             transform=torchvision.transforms.Compose([\n",
    "                               torchvision.transforms.ToTensor(),\n",
    "                               torchvision.transforms.Normalize(\n",
    "                                 (0.1307,), (0.3081,))\n",
    "                             ]))\n",
    "        self.data = []\n",
    "        self.targets = []\n",
    "        \n",
    "        if mode == 'train':\n",
    "            for i in range(50001):\n",
    "                self.data.append(data_set_train[i][0].numpy())\n",
    "                self.targets.append(data_set_train[i][1])\n",
    "        elif mode == 'val':\n",
    "            for i in range(50001, 60000):\n",
    "                self.data.append(data_set_train[i][0].numpy())\n",
    "                self.targets.append(data_set_train[i][1])\n",
    "        else:\n",
    "            for i in range(len(data_set_test)):\n",
    "                self.data.append(data_set_test[i][0].numpy())\n",
    "                self.targets.append(data_set_test[i][1])\n",
    "        \n",
    "        self.targets = np.array(self.targets)\n",
    "        self.data = np.array(self.data)\n",
    "        self.transforms = transforms\n",
    "\n",
    "    def __len__(self):\n",
    "        return len(self.data)\n",
    "\n",
    "    def __getitem__(self, idx):\n",
    "        sample_x = self.data[idx]\n",
    "        sample_y = self.targets[idx]\n",
    "        if self.transforms:\n",
    "            sample_x = self.transforms(sample_x)\n",
    "        return (sample_x, sample_y)"
   ]
  },
  {
   "cell_type": "code",
   "execution_count": 292,
   "metadata": {},
   "outputs": [],
   "source": [
    "# Load in the MNIST dataset - (takes longer to load than Digits!, 6)\n",
    "train_data_mnist = MNIST(mode='train')\n",
    "val_data_mnist = MNIST(mode='val')\n",
    "test_data_mnist = MNIST(mode='test')\n",
    "\n",
    "train_loader_mnist = DataLoader(train_data_mnist, batch_size=64, shuffle=True)\n",
    "val_loader_mnist = DataLoader(val_data_mnist, batch_size=64, shuffle=True)\n",
    "test_loader_mnist = DataLoader(test_data_mnist, batch_size=64, shuffle=False)"
   ]
  },
  {
   "cell_type": "code",
   "execution_count": 293,
   "metadata": {},
   "outputs": [
    {
     "name": "stdout",
     "output_type": "stream",
     "text": [
      "1\n"
     ]
    },
    {
     "data": {
      "text/plain": [
       "<matplotlib.image.AxesImage at 0x239bd97f040>"
      ]
     },
     "execution_count": 293,
     "metadata": {},
     "output_type": "execute_result"
    },
    {
     "data": {
      "image/png": "[encoded data removed]",
      "text/plain": [
       "<Figure size 432x288 with 1 Axes>"
      ]
     },
     "metadata": {
      "needs_background": "light"
     },
     "output_type": "display_data"
    }
   ],
   "source": [
    "# Print an example MNIST digit and its according target label. - (digits dataset)\n",
    "\n",
    "print(val_data_mnist.targets[1900])\n",
    "plottable_image = np.reshape(val_data_mnist.data[1900], (28, 28))\n",
    "plt.imshow(plottable_image, cmap='gray')"
   ]
  },
  {
   "cell_type": "code",
   "execution_count": 295,
   "metadata": {},
   "outputs": [
    {
     "data": {
      "text/plain": [
       "array([[[-0.42421296, -0.42421296, -0.42421296, -0.42421296,\n",
       "         -0.42421296, -0.42421296, -0.42421296, -0.42421296,\n",
       "         -0.42421296, -0.42421296, -0.42421296, -0.42421296,\n",
       "         -0.42421296, -0.42421296, -0.42421296, -0.42421296,\n",
       "         -0.42421296, -0.42421296, -0.42421296, -0.42421296,\n",
       "         -0.42421296, -0.42421296, -0.42421296, -0.42421296,\n",
       "         -0.42421296, -0.42421296, -0.42421296, -0.42421296],\n",
       "        [-0.42421296, -0.42421296, -0.42421296, -0.42421296,\n",
       "         -0.42421296, -0.42421296, -0.42421296, -0.42421296,\n",
       "         -0.42421296, -0.42421296, -0.42421296, -0.42421296,\n",
       "         -0.42421296, -0.42421296, -0.42421296, -0.42421296,\n",
       "         -0.42421296, -0.42421296, -0.42421296, -0.42421296,\n",
       "         -0.42421296, -0.42421296, -0.42421296, -0.42421296,\n",
       "         -0.42421296, -0.42421296, -0.42421296, -0.42421296],\n",
       "        [-0.42421296, -0.42421296, -0.42421296, -0.42421296,\n",
       "         -0.42421296, -0.42421296, -0.42421296, -0.42421296,\n",
       "         -0.42421296, -0.42421296, -0.42421296, -0.42421296,\n",
       "         -0.42421296, -0.42421296, -0.42421296, -0.42421296,\n",
       "         -0.42421296, -0.42421296, -0.42421296, -0.42421296,\n",
       "         -0.42421296, -0.42421296, -0.42421296, -0.42421296,\n",
       "         -0.42421296, -0.42421296, -0.42421296, -0.42421296],\n",
       "        [-0.42421296, -0.42421296, -0.42421296, -0.42421296,\n",
       "         -0.42421296, -0.42421296, -0.42421296, -0.42421296,\n",
       "         -0.42421296, -0.42421296, -0.42421296, -0.42421296,\n",
       "         -0.42421296, -0.42421296, -0.42421296, -0.42421296,\n",
       "         -0.42421296, -0.42421296, -0.42421296, -0.42421296,\n",
       "         -0.42421296, -0.42421296, -0.42421296, -0.42421296,\n",
       "         -0.42421296, -0.42421296, -0.42421296, -0.42421296],\n",
       "        [-0.42421296, -0.42421296, -0.42421296, -0.42421296,\n",
       "         -0.42421296, -0.42421296, -0.42421296, -0.42421296,\n",
       "         -0.42421296, -0.42421296, -0.42421296, -0.42421296,\n",
       "         -0.42421296, -0.42421296, -0.42421296,  0.5304046 ,\n",
       "          2.8214867 ,  0.12310111, -0.42421296, -0.42421296,\n",
       "         -0.42421296, -0.42421296, -0.42421296, -0.42421296,\n",
       "         -0.42421296, -0.42421296, -0.42421296, -0.42421296],\n",
       "        [-0.42421296, -0.42421296, -0.42421296, -0.42421296,\n",
       "         -0.42421296, -0.42421296, -0.42421296, -0.42421296,\n",
       "         -0.42421296, -0.42421296, -0.42421296, -0.42421296,\n",
       "         -0.42421296, -0.42421296, -0.42421296,  1.3704681 ,\n",
       "          2.7960303 ,  0.12310111, -0.42421296, -0.42421296,\n",
       "         -0.42421296, -0.42421296, -0.42421296, -0.42421296,\n",
       "         -0.42421296, -0.42421296, -0.42421296, -0.42421296],\n",
       "        [-0.42421296, -0.42421296, -0.42421296, -0.42421296,\n",
       "         -0.42421296, -0.42421296, -0.42421296, -0.42421296,\n",
       "         -0.42421296, -0.42421296, -0.42421296, -0.42421296,\n",
       "         -0.42421296, -0.42421296, -0.42421296,  2.1087058 ,\n",
       "          2.7960303 ,  0.23765521, -0.42421296, -0.42421296,\n",
       "         -0.42421296, -0.42421296, -0.42421296, -0.42421296,\n",
       "         -0.42421296, -0.42421296, -0.42421296, -0.42421296],\n",
       "        [-0.42421296, -0.42421296, -0.42421296, -0.42421296,\n",
       "         -0.42421296, -0.42421296, -0.42421296, -0.42421296,\n",
       "         -0.42421296, -0.42421296, -0.42421296, -0.42421296,\n",
       "         -0.42421296, -0.42421296,  0.09764464,  2.516009  ,\n",
       "          2.7960303 ,  0.77224106, -0.42421296, -0.42421296,\n",
       "         -0.42421296, -0.42421296, -0.42421296, -0.42421296,\n",
       "         -0.42421296, -0.42421296, -0.42421296, -0.42421296],\n",
       "        [-0.42421296, -0.42421296, -0.42421296, -0.42421296,\n",
       "         -0.42421296, -0.42421296, -0.42421296, -0.42421296,\n",
       "         -0.42421296, -0.42421296, -0.42421296, -0.42421296,\n",
       "         -0.42421296, -0.42421296,  0.64495873,  2.7960303 ,\n",
       "          2.7960303 ,  0.12310111, -0.42421296, -0.42421296,\n",
       "         -0.42421296, -0.42421296, -0.42421296, -0.42421296,\n",
       "         -0.42421296, -0.42421296, -0.42421296, -0.42421296],\n",
       "        [-0.42421296, -0.42421296, -0.42421296, -0.42421296,\n",
       "         -0.42421296, -0.42421296, -0.42421296, -0.42421296,\n",
       "         -0.42421296, -0.42421296, -0.42421296, -0.42421296,\n",
       "         -0.42421296, -0.42421296,  2.019608  ,  2.7960303 ,\n",
       "          2.1468904 , -0.2205612 , -0.42421296, -0.42421296,\n",
       "         -0.42421296, -0.42421296, -0.42421296, -0.42421296,\n",
       "         -0.42421296, -0.42421296, -0.42421296, -0.42421296],\n",
       "        [-0.42421296, -0.42421296, -0.42421296, -0.42421296,\n",
       "         -0.42421296, -0.42421296, -0.42421296, -0.42421296,\n",
       "         -0.42421296, -0.42421296, -0.42421296, -0.42421296,\n",
       "         -0.42421296, -0.42421296,  2.019608  ,  2.7960303 ,\n",
       "          1.4977505 , -0.42421296, -0.42421296, -0.42421296,\n",
       "         -0.42421296, -0.42421296, -0.42421296, -0.42421296,\n",
       "         -0.42421296, -0.42421296, -0.42421296, -0.42421296],\n",
       "        [-0.42421296, -0.42421296, -0.42421296, -0.42421296,\n",
       "         -0.42421296, -0.42421296, -0.42421296, -0.42421296,\n",
       "         -0.42421296, -0.42421296, -0.42421296, -0.42421296,\n",
       "         -0.42421296,  0.12310111,  2.5541937 ,  2.617835  ,\n",
       "          0.07218818, -0.42421296, -0.42421296, -0.42421296,\n",
       "         -0.42421296, -0.42421296, -0.42421296, -0.42421296,\n",
       "         -0.42421296, -0.42421296, -0.42421296, -0.42421296],\n",
       "        [-0.42421296, -0.42421296, -0.42421296, -0.42421296,\n",
       "         -0.42421296, -0.42421296, -0.42421296, -0.42421296,\n",
       "         -0.42421296, -0.42421296, -0.42421296, -0.42421296,\n",
       "         -0.42421296,  0.7213281 ,  2.7960303 ,  1.854141  ,\n",
       "         -0.42421296, -0.42421296, -0.42421296, -0.42421296,\n",
       "         -0.42421296, -0.42421296, -0.42421296, -0.42421296,\n",
       "         -0.42421296, -0.42421296, -0.42421296, -0.42421296],\n",
       "        [-0.42421296, -0.42421296, -0.42421296, -0.42421296,\n",
       "         -0.42421296, -0.42421296, -0.42421296, -0.42421296,\n",
       "         -0.42421296, -0.42421296, -0.42421296, -0.42421296,\n",
       "         -0.2460177 ,  2.1596186 ,  2.7960303 ,  1.854141  ,\n",
       "         -0.42421296, -0.42421296, -0.42421296, -0.42421296,\n",
       "         -0.42421296, -0.42421296, -0.42421296, -0.42421296,\n",
       "         -0.42421296, -0.42421296, -0.42421296, -0.42421296],\n",
       "        [-0.42421296, -0.42421296, -0.42421296, -0.42421296,\n",
       "         -0.42421296, -0.42421296, -0.42421296, -0.42421296,\n",
       "         -0.42421296, -0.42421296, -0.42421296, -0.42421296,\n",
       "          0.28856814,  2.7960303 ,  2.7960303 ,  0.65768695,\n",
       "         -0.42421296, -0.42421296, -0.42421296, -0.42421296,\n",
       "         -0.42421296, -0.42421296, -0.42421296, -0.42421296,\n",
       "         -0.42421296, -0.42421296, -0.42421296, -0.42421296],\n",
       "        [-0.42421296, -0.42421296, -0.42421296, -0.42421296,\n",
       "         -0.42421296, -0.42421296, -0.42421296, -0.42421296,\n",
       "         -0.42421296, -0.42421296, -0.42421296, -0.42421296,\n",
       "          1.523207  ,  2.7960303 ,  1.6504892 , -0.27147415,\n",
       "         -0.42421296, -0.42421296, -0.42421296, -0.42421296,\n",
       "         -0.42421296, -0.42421296, -0.42421296, -0.42421296,\n",
       "         -0.42421296, -0.42421296, -0.42421296, -0.42421296],\n",
       "        [-0.42421296, -0.42421296, -0.42421296, -0.42421296,\n",
       "         -0.42421296, -0.42421296, -0.42421296, -0.42421296,\n",
       "         -0.42421296, -0.42421296, -0.42421296, -0.2205612 ,\n",
       "          2.1596186 ,  2.7960303 ,  0.3522093 , -0.42421296,\n",
       "         -0.42421296, -0.42421296, -0.42421296, -0.42421296,\n",
       "         -0.42421296, -0.42421296, -0.42421296, -0.42421296,\n",
       "         -0.42421296, -0.42421296, -0.42421296, -0.42421296],\n",
       "        [-0.42421296, -0.42421296, -0.42421296, -0.42421296,\n",
       "         -0.42421296, -0.42421296, -0.42421296, -0.42421296,\n",
       "         -0.42421296, -0.42421296, -0.42421296,  0.7595128 ,\n",
       "          2.7960303 ,  2.5287373 ,  0.09764464, -0.42421296,\n",
       "         -0.42421296, -0.42421296, -0.42421296, -0.42421296,\n",
       "         -0.42421296, -0.42421296, -0.42421296, -0.42421296,\n",
       "         -0.42421296, -0.42421296, -0.42421296, -0.42421296],\n",
       "        [-0.42421296, -0.42421296, -0.42421296, -0.42421296,\n",
       "         -0.42421296, -0.42421296, -0.42421296, -0.42421296,\n",
       "         -0.42421296, -0.42421296, -0.42421296,  1.7904998 ,\n",
       "          2.7960303 ,  2.0068798 , -0.42421296, -0.42421296,\n",
       "         -0.42421296, -0.42421296, -0.42421296, -0.42421296,\n",
       "         -0.42421296, -0.42421296, -0.42421296, -0.42421296,\n",
       "         -0.42421296, -0.42421296, -0.42421296, -0.42421296],\n",
       "        [-0.42421296, -0.42421296, -0.42421296, -0.42421296,\n",
       "         -0.42421296, -0.42421296, -0.42421296, -0.42421296,\n",
       "         -0.42421296, -0.42421296, -0.42421296,  1.7904998 ,\n",
       "          2.7960303 ,  0.61950225, -0.42421296, -0.42421296,\n",
       "         -0.42421296, -0.42421296, -0.42421296, -0.42421296,\n",
       "         -0.42421296, -0.42421296, -0.42421296, -0.42421296,\n",
       "         -0.42421296, -0.42421296, -0.42421296, -0.42421296],\n",
       "        [-0.42421296, -0.42421296, -0.42421296, -0.42421296,\n",
       "         -0.42421296, -0.42421296, -0.42421296, -0.42421296,\n",
       "         -0.42421296, -0.42421296,  0.08491641,  2.7069325 ,\n",
       "          2.1468904 , -0.33511534, -0.42421296, -0.42421296,\n",
       "         -0.42421296, -0.42421296, -0.42421296, -0.42421296,\n",
       "         -0.42421296, -0.42421296, -0.42421296, -0.42421296,\n",
       "         -0.42421296, -0.42421296, -0.42421296, -0.42421296],\n",
       "        [-0.42421296, -0.42421296, -0.42421296, -0.42421296,\n",
       "         -0.42421296, -0.42421296, -0.42421296, -0.42421296,\n",
       "         -0.42421296, -0.42421296,  0.13582934,  2.7960303 ,\n",
       "          2.083249  , -0.42421296, -0.42421296, -0.42421296,\n",
       "         -0.42421296, -0.42421296, -0.42421296, -0.42421296,\n",
       "         -0.42421296, -0.42421296, -0.42421296, -0.42421296,\n",
       "         -0.42421296, -0.42421296, -0.42421296, -0.42421296],\n",
       "        [-0.42421296, -0.42421296, -0.42421296, -0.42421296,\n",
       "         -0.42421296, -0.42421296, -0.42421296, -0.42421296,\n",
       "         -0.42421296, -0.42421296,  1.637761  ,  2.7960303 ,\n",
       "          2.083249  , -0.42421296, -0.42421296, -0.42421296,\n",
       "         -0.42421296, -0.42421296, -0.42421296, -0.42421296,\n",
       "         -0.42421296, -0.42421296, -0.42421296, -0.42421296,\n",
       "         -0.42421296, -0.42421296, -0.42421296, -0.42421296],\n",
       "        [-0.42421296, -0.42421296, -0.42421296, -0.42421296,\n",
       "         -0.42421296, -0.42421296, -0.42421296, -0.42421296,\n",
       "         -0.42421296, -0.42421296,  0.937708  ,  2.7960303 ,\n",
       "          1.306827  , -0.42421296, -0.42421296, -0.42421296,\n",
       "         -0.42421296, -0.42421296, -0.42421296, -0.42421296,\n",
       "         -0.42421296, -0.42421296, -0.42421296, -0.42421296,\n",
       "         -0.42421296, -0.42421296, -0.42421296, -0.42421296],\n",
       "        [-0.42421296, -0.42421296, -0.42421296, -0.42421296,\n",
       "         -0.42421296, -0.42421296, -0.42421296, -0.42421296,\n",
       "         -0.42421296, -0.42421296, -0.42421296, -0.42421296,\n",
       "         -0.42421296, -0.42421296, -0.42421296, -0.42421296,\n",
       "         -0.42421296, -0.42421296, -0.42421296, -0.42421296,\n",
       "         -0.42421296, -0.42421296, -0.42421296, -0.42421296,\n",
       "         -0.42421296, -0.42421296, -0.42421296, -0.42421296],\n",
       "        [-0.42421296, -0.42421296, -0.42421296, -0.42421296,\n",
       "         -0.42421296, -0.42421296, -0.42421296, -0.42421296,\n",
       "         -0.42421296, -0.42421296, -0.42421296, -0.42421296,\n",
       "         -0.42421296, -0.42421296, -0.42421296, -0.42421296,\n",
       "         -0.42421296, -0.42421296, -0.42421296, -0.42421296,\n",
       "         -0.42421296, -0.42421296, -0.42421296, -0.42421296,\n",
       "         -0.42421296, -0.42421296, -0.42421296, -0.42421296],\n",
       "        [-0.42421296, -0.42421296, -0.42421296, -0.42421296,\n",
       "         -0.42421296, -0.42421296, -0.42421296, -0.42421296,\n",
       "         -0.42421296, -0.42421296, -0.42421296, -0.42421296,\n",
       "         -0.42421296, -0.42421296, -0.42421296, -0.42421296,\n",
       "         -0.42421296, -0.42421296, -0.42421296, -0.42421296,\n",
       "         -0.42421296, -0.42421296, -0.42421296, -0.42421296,\n",
       "         -0.42421296, -0.42421296, -0.42421296, -0.42421296],\n",
       "        [-0.42421296, -0.42421296, -0.42421296, -0.42421296,\n",
       "         -0.42421296, -0.42421296, -0.42421296, -0.42421296,\n",
       "         -0.42421296, -0.42421296, -0.42421296, -0.42421296,\n",
       "         -0.42421296, -0.42421296, -0.42421296, -0.42421296,\n",
       "         -0.42421296, -0.42421296, -0.42421296, -0.42421296,\n",
       "         -0.42421296, -0.42421296, -0.42421296, -0.42421296,\n",
       "         -0.42421296, -0.42421296, -0.42421296, -0.42421296]]],\n",
       "      dtype=float32)"
      ]
     },
     "execution_count": 295,
     "metadata": {},
     "output_type": "execute_result"
    }
   ],
   "source": [
    "val_data_mnist.data[1900]"
   ]
  },
  {
   "cell_type": "markdown",
   "metadata": {},
   "source": [
    "### The Baseline RNN "
   ]
  },
  {
   "cell_type": "code",
   "execution_count": 296,
   "metadata": {},
   "outputs": [],
   "source": [
    "class RNN(nn.Module):\n",
    "    def __init__(self, input_size, hidden_size, output_size, dataset_MNIST = False):\n",
    "        super(RNN, self).__init__()\n",
    "        self.hidden_size = hidden_size\n",
    "        self.i2h = nn.Linear(input_size + hidden_size, hidden_size)\n",
    "        self.i2o = nn.Linear(input_size + hidden_size, output_size)\n",
    "        self.softmax = nn.LogSoftmax(dim=1)\n",
    "        \n",
    "        self.mnist = dataset_MNIST\n",
    "\n",
    "    def forward(self, input, hidden):\n",
    "        \n",
    "        # If we use the Digits dataset\n",
    "        if self.mnist == False:\n",
    "            if input.size()[0] != BATCH_SIZE:\n",
    "                #If we get dataset % batch set != 0 at the end of the batch iterations. \n",
    "                hidden_end = torch.zeros(input.size()[0], self.hidden_size)\n",
    "                combined = torch.cat((input, hidden_end), 1)\n",
    "            else:\n",
    "                combined = torch.cat((input, hidden), 1)  \n",
    "        \n",
    "        # If we use the MNIST dataset - squeeze the MNIST Tensor in 2 dimensions \n",
    "        elif self.mnist == True:\n",
    "            if input.size()[0] != BATCH_SIZE:\n",
    "                # If we get dataset % batch set != 0 at the end of the batch iterations.\n",
    "                hidden_end = torch.zeros(input.size()[0], self.hidden_size)\n",
    "                three_d_tensor = input.squeeze(1)\n",
    "                two_d_tensor = three_d_tensor.contiguous().view(three_d_tensor.size()[0], -1)  # 28 * 28 pixels = 784\n",
    "                combined = torch.cat((two_d_tensor, hidden_end), 1)\n",
    "            else:\n",
    "                three_d_tensor = input.squeeze(1)\n",
    "                two_d_tensor = three_d_tensor.contiguous().view(three_d_tensor.size()[0], -1)  # 28 * 28 pixels = 784\n",
    "                combined = torch.cat((two_d_tensor, hidden), 1)\n",
    "        \n",
    "    \n",
    "        hidden = self.i2h(combined)\n",
    "        output = self.i2o(combined)\n",
    "        output2 = self.softmax(output)\n",
    "        return output2, hidden\n",
    "        \n",
    "\n",
    "    def initHidden(self):\n",
    "        return torch.zeros(BATCH_SIZE, self.hidden_size)\n"
   ]
  },
  {
   "cell_type": "markdown",
   "metadata": {},
   "source": [
    "## Auxilary functions"
   ]
  },
  {
   "cell_type": "code",
   "execution_count": 297,
   "metadata": {},
   "outputs": [],
   "source": [
    "# Function that transforms the tensor output to a predicted target name. \n",
    "def categoryFromOutput(output):\n",
    "    top_n, top_i = output.topk(1)\n",
    "    category_i = top_i[0].item()\n",
    "    return LABELS[category_i]\n",
    "\n",
    "\n",
    "# Plot both accuracy as log loss. \n",
    "def plot_results(epochs, loss, accuracy):\n",
    "    fig, (ax1, ax2) = plt.subplots(2)\n",
    "    fig.suptitle('Results RNN - Full Backpropagation.')\n",
    "    ax1.set(ylabel='Loss')\n",
    "    ax2.set(ylabel='Accuracy', xlabel='Epochs')\n",
    "    \n",
    "    ax1.plot(epochs, loss)\n",
    "    ax2.plot(epochs, accuracy)\n",
    "    \n",
    "\n",
    "    plt.savefig('results_rnn_baseline.png', bbox_inches='tight')\n",
    "    #plt.close()\n",
    "\n",
    "\n",
    "# Concatenating the results of all (64*)batches in the lists, calculating the total accuracy. \n",
    "def accuracy(pred_targets_list, gold_targets_list):\n",
    "    total_correct = 0\n",
    "    total_amount = 0\n",
    "    \n",
    "    zip_list = zip(pred_targets_list, gold_targets_list)\n",
    "    for pred_targets, gold_targets in zip_list:\n",
    "        total_correct += (pred_targets == gold_targets).float().sum()\n",
    "        total_amount += len(pred_targets)\n",
    "    \n",
    "    accuracy = 100 * total_correct / total_amount\n",
    "\n",
    "    return accuracy.item()\n",
    "\n",
    "# Evaluation -> used for validation and test set. \n",
    "def evaluation(val_loader, model, epoch, loss_function):\n",
    "    hidden = model.initHidden()\n",
    "    \n",
    "    #Evaluating our performance so far\n",
    "    model.eval()\n",
    "    \n",
    "    # Store all results in a list to calculate the accuracy. \n",
    "    pred_target_total_acc = []\n",
    "    target_total_acc = []\n",
    "    \n",
    "    # Initliaze dataset size and loss\n",
    "    loss = 0.\n",
    "    N = 0.\n",
    "    \n",
    "    # Iterating over the validation set batches, acquiring tensor formatted results. \n",
    "    for indx_batch, (batch, targets) in enumerate(val_loader):\n",
    "        output, hidden_new = model.forward(batch, hidden)\n",
    "        pred_targets = np.array([])\n",
    "        for item in output:\n",
    "            pred_targets = np.append(pred_targets, categoryFromOutput(item))\n",
    "        pred_targets = torch.from_numpy(pred_targets).int()\n",
    "        \n",
    "        # Calculating loss\n",
    "        loss_t = loss_function(output, targets.long())\n",
    "        loss = loss + loss_t.item()\n",
    "        N = N + batch.shape[0]\n",
    "        \n",
    "        #Append the batch result to a list of all results\n",
    "        pred_target_total_acc.append(pred_targets)\n",
    "        target_total_acc.append(targets)\n",
    "    \n",
    "    # Store the loss corrected by its size\n",
    "    loss = loss / N   \n",
    "        \n",
    "    total_accuracy = accuracy(pred_target_total_acc, target_total_acc)\n",
    "    print('Epoch: %s - Loss of: %s - Accuracy of: %s' %(epoch, loss,total_accuracy))\n",
    "    \n",
    "    return epoch, loss, total_accuracy"
   ]
  },
  {
   "cell_type": "code",
   "execution_count": 298,
   "metadata": {},
   "outputs": [],
   "source": [
    "def training(model, train_loader, val_loader, num_epochs, optimizer, loss_function, max_loss_iter):\n",
    "    \n",
    "    print('Training started for %s epochs.'  %(num_epochs))\n",
    "    epochs = []\n",
    "    accuracy_results = []\n",
    "    loss_results = []\n",
    "    best_loss = 10000 # Picking random high number to assure correct functionality\n",
    "    loss_iter = 0\n",
    "    \n",
    "    # Initialize hidden layers\n",
    "    hidden = model.initHidden()\n",
    "    \n",
    "    # Used for error detection\n",
    "    #torch.autograd.set_detect_anomaly(True)\n",
    "\n",
    "    for epoch in range(num_epochs):\n",
    "        # Training\n",
    "        model.train()\n",
    "        \n",
    "        # Processing batch by batch\n",
    "        for indx_batch, (batch, targets) in enumerate(train_loader):\n",
    "\n",
    "            # Inplace error: if I want to change hidden to become hidden_new - how does this work? \n",
    "            # don't we want to feed the new hidden layer?\n",
    "            output, hidden_new = model.forward(batch, hidden)\n",
    "            targets = targets.long()\n",
    "\n",
    "            loss = loss_function(output, targets)\n",
    "            optimizer.zero_grad()\n",
    "\n",
    "            loss.backward(retain_graph = True)\n",
    "            optimizer.step()\n",
    "\n",
    "            #Optional: see the training loss per batch during training. \n",
    "            #print(\"Training Loss, per batch: %s\" %loss)\n",
    "        epoch, loss_eval, accuracy_eval = evaluation(val_loader, model, epoch, loss_function)\n",
    "        epochs.append(epoch)\n",
    "        accuracy_results.append(accuracy_eval)\n",
    "        loss_results.append(loss_eval)\n",
    "        \n",
    "        if epoch == 0:\n",
    "            print('* Saving 1st epoch model *')\n",
    "            torch.save(model, 'trained.model')\n",
    "            best_loss = loss_eval\n",
    "        else:\n",
    "            if loss_eval < best_loss:\n",
    "                print('* Saving new best model *')\n",
    "                torch.save(model, 'trained.model')\n",
    "                best_loss = loss_eval\n",
    "                loss_iter = 0\n",
    "            else:\n",
    "                loss_iter += 1\n",
    "        \n",
    "        # If loss has not improved for an arbitrary amount of epochs:\n",
    "        if loss_iter > max_loss_iter:\n",
    "            break\n",
    "    \n",
    "    plot_results(epochs, loss_results, accuracy_results)\n",
    "    \n",
    "    return model\n",
    "\n"
   ]
  },
  {
   "cell_type": "markdown",
   "metadata": {},
   "source": [
    "## Parameter set-up"
   ]
  },
  {
   "cell_type": "code",
   "execution_count": 304,
   "metadata": {},
   "outputs": [],
   "source": [
    "INPUT_SIZE_DIGITS = 64  # 8 * 8 pixels\n",
    "INPUT_SIZE_MNIST = 784  # 28 * 28 pixels\n",
    "BATCH_SIZE = 64 \n",
    "n_hidden = 128\n",
    "n_labels = 10\n",
    "n_epochs = 100\n",
    "lr_SGD = 0.01\n",
    "momentum_SGD = 0.9\n",
    "max_loss_iter = 10"
   ]
  },
  {
   "cell_type": "markdown",
   "metadata": {},
   "source": [
    "## Initialize model/optimizer/loss_function. Start training."
   ]
  },
  {
   "cell_type": "code",
   "execution_count": 305,
   "metadata": {},
   "outputs": [
    {
     "name": "stdout",
     "output_type": "stream",
     "text": [
      "Training started for 100 epochs.\n",
      "Epoch: 0 - Loss of: 189.6004017857143 - Accuracy of: 69.14286041259766\n",
      "* Saving 1st epoch model *\n",
      "Epoch: 1 - Loss of: 75.46872732979911 - Accuracy of: 85.42857360839844\n",
      "* Saving new best model *\n",
      "Epoch: 2 - Loss of: 33.18087193080357 - Accuracy of: 93.14286041259766\n",
      "* Saving new best model *\n",
      "Epoch: 3 - Loss of: 21.666781752450124 - Accuracy of: 92.57142639160156\n",
      "* Saving new best model *\n",
      "Epoch: 4 - Loss of: 37.467918875558034 - Accuracy of: 92.57142639160156\n",
      "Epoch: 5 - Loss of: 21.82224053791591 - Accuracy of: 96.0\n",
      "Epoch: 6 - Loss of: 25.473641270228793 - Accuracy of: 93.71428680419922\n",
      "Epoch: 7 - Loss of: 24.677014013017928 - Accuracy of: 93.71428680419922\n",
      "Epoch: 8 - Loss of: 31.549811799185616 - Accuracy of: 93.71428680419922\n",
      "Epoch: 9 - Loss of: 21.64595005580357 - Accuracy of: 95.71428680419922\n",
      "* Saving new best model *\n",
      "Epoch: 10 - Loss of: 24.176990443638392 - Accuracy of: 93.71428680419922\n",
      "Epoch: 11 - Loss of: 24.741913492339 - Accuracy of: 95.14286041259766\n",
      "Epoch: 12 - Loss of: 24.017643171037946 - Accuracy of: 94.28571319580078\n",
      "Epoch: 13 - Loss of: 23.182410539899553 - Accuracy of: 95.71428680419922\n",
      "Epoch: 14 - Loss of: 31.360763818877075 - Accuracy of: 92.85713958740234\n",
      "Epoch: 15 - Loss of: 26.98993931361607 - Accuracy of: 94.57142639160156\n",
      "Epoch: 16 - Loss of: 22.54752232142857 - Accuracy of: 94.28571319580078\n",
      "Epoch: 17 - Loss of: 44.222682407924104 - Accuracy of: 90.85713958740234\n",
      "Epoch: 18 - Loss of: 21.77839093889509 - Accuracy of: 94.85713958740234\n",
      "Epoch: 19 - Loss of: 28.06089128766741 - Accuracy of: 94.0\n",
      "Epoch: 20 - Loss of: 23.834450160435267 - Accuracy of: 95.71428680419922\n"
     ]
    },
    {
     "data": {
      "image/png": "[encoded data removed]",
      "text/plain": [
       "<Figure size 432x288 with 2 Axes>"
      ]
     },
     "metadata": {
      "needs_background": "light"
     },
     "output_type": "display_data"
    }
   ],
   "source": [
    "# Perform training on the DIGITS dataset\n",
    "model = RNN(INPUT_SIZE_DIGITS, n_hidden, n_labels, dataset_MNIST = False)\n",
    "optimizer = optim.SGD([p for p in model.parameters() if p.requires_grad == True], lr=lr_SGD, momentum=momentum_SGD)\n",
    "loss_function = nn.NLLLoss(reduction='sum') # Mean is also possible.\n",
    "\n",
    "trained_model = training(model, train_loader, val_loader, n_epochs, optimizer, loss_function, max_loss_iter)\n"
   ]
  },
  {
   "cell_type": "code",
   "execution_count": 303,
   "metadata": {},
   "outputs": [
    {
     "name": "stdout",
     "output_type": "stream",
     "text": [
      "Training started for 100 epochs.\n",
      "Epoch: 0 - Loss of: 2.349987847982186 - Accuracy of: 12.821282386779785\n",
      "* Saving 1st epoch model *\n",
      "Epoch: 1 - Loss of: 2.349987814409493 - Accuracy of: 12.821282386779785\n",
      "* Saving new best model *\n",
      "Epoch: 2 - Loss of: 2.3499878178430635 - Accuracy of: 12.821282386779785\n",
      "Epoch: 3 - Loss of: 2.3499878342479024 - Accuracy of: 12.821282386779785\n",
      "Epoch: 4 - Loss of: 2.349987844548615 - Accuracy of: 12.821282386779785\n",
      "Epoch: 5 - Loss of: 2.3499878056348114 - Accuracy of: 12.821282386779785\n",
      "* Saving new best model *\n",
      "Epoch: 6 - Loss of: 2.349987797241638 - Accuracy of: 12.821282386779785\n",
      "* Saving new best model *\n",
      "Epoch: 7 - Loss of: 2.3499878086868744 - Accuracy of: 12.821282386779785\n",
      "Epoch: 8 - Loss of: 2.3499878357739337 - Accuracy of: 12.821282386779785\n",
      "Epoch: 9 - Loss of: 2.3499878231841738 - Accuracy of: 12.821282386779785\n",
      "Epoch: 10 - Loss of: 2.3499878029642565 - Accuracy of: 12.821282386779785\n",
      "Epoch: 11 - Loss of: 2.3499878411150443 - Accuracy of: 12.821282386779785\n",
      "Epoch: 12 - Loss of: 2.3499878655315483 - Accuracy of: 12.821282386779785\n",
      "Epoch: 13 - Loss of: 2.3499878125019533 - Accuracy of: 12.821282386779785\n",
      "Epoch: 14 - Loss of: 2.3499878338663946 - Accuracy of: 12.821282386779785\n",
      "Epoch: 15 - Loss of: 2.349987818987587 - Accuracy of: 12.821282386779785\n",
      "Epoch: 16 - Loss of: 2.3499878418780598 - Accuracy of: 12.821282386779785\n",
      "Epoch: 17 - Loss of: 2.3499877953340986 - Accuracy of: 12.821282386779785\n",
      "* Saving new best model *\n",
      "Epoch: 18 - Loss of: 2.3499878113574297 - Accuracy of: 12.821282386779785\n",
      "Epoch: 19 - Loss of: 2.349987823565682 - Accuracy of: 12.821282386779785\n",
      "Epoch: 20 - Loss of: 2.349987798004654 - Accuracy of: 12.821282386779785\n",
      "Epoch: 21 - Loss of: 2.3499878426410756 - Accuracy of: 12.821282386779785\n",
      "Epoch: 22 - Loss of: 2.3499878231841738 - Accuracy of: 12.821282386779785\n",
      "Epoch: 23 - Loss of: 2.3499877926635437 - Accuracy of: 12.821282386779785\n",
      "* Saving new best model *\n",
      "Epoch: 24 - Loss of: 2.349987857138375 - Accuracy of: 12.821282386779785\n",
      "Epoch: 25 - Loss of: 2.3499878155540164 - Accuracy of: 12.821282386779785\n",
      "Epoch: 26 - Loss of: 2.3499877983861617 - Accuracy of: 12.821282386779785\n",
      "Epoch: 27 - Loss of: 2.3499878163170322 - Accuracy of: 12.821282386779785\n",
      "Epoch: 28 - Loss of: 2.3499877995306857 - Accuracy of: 12.821282386779785\n",
      "Epoch: 29 - Loss of: 2.3499877625244214 - Accuracy of: 12.821282386779785\n",
      "* Saving new best model *\n",
      "Epoch: 30 - Loss of: 2.349987859427422 - Accuracy of: 12.821282386779785\n",
      "Epoch: 31 - Loss of: 2.3499877934265596 - Accuracy of: 12.821282386779785\n",
      "Epoch: 32 - Loss of: 2.3499878300513157 - Accuracy of: 12.821282386779785\n",
      "Epoch: 33 - Loss of: 2.34998779151902 - Accuracy of: 12.821282386779785\n",
      "Epoch: 34 - Loss of: 2.3499878163170322 - Accuracy of: 12.821282386779785\n",
      "Epoch: 35 - Loss of: 2.349987781599815 - Accuracy of: 12.821282386779785\n",
      "Epoch: 36 - Loss of: 2.349987832340363 - Accuracy of: 12.821282386779785\n",
      "Epoch: 37 - Loss of: 2.349987847600678 - Accuracy of: 12.821282386779785\n",
      "Epoch: 38 - Loss of: 2.3499878044902878 - Accuracy of: 12.821282386779785\n",
      "Epoch: 39 - Loss of: 2.3499877877039412 - Accuracy of: 12.821282386779785\n",
      "Epoch: 40 - Loss of: 2.3499878212766343 - Accuracy of: 12.821282386779785\n"
     ]
    },
    {
     "data": {
      "image/png": "[encoded data removed]",
      "text/plain": [
       "<Figure size 432x288 with 2 Axes>"
      ]
     },
     "metadata": {
      "needs_background": "light"
     },
     "output_type": "display_data"
    }
   ],
   "source": [
    "# Perform training on the MNIST dataset\n",
    "model_mnist = RNN(INPUT_SIZE_MNIST, n_hidden, n_labels, dataset_MNIST = True)\n",
    "optimizer = optim.SGD([p for p in model.parameters() if p.requires_grad == True], lr=0.1, momentum=0.9)\n",
    "loss_function_mnist = nn.NLLLoss(reduction='sum') # Mean is also possible.\n",
    "\n",
    "trained_model_mnist = training(model_mnist, train_loader_mnist, val_loader_mnist, n_epochs, optimizer, loss_function_mnist, max_loss_iter)"
   ]
  },
  {
   "cell_type": "code",
   "execution_count": 306,
   "metadata": {},
   "outputs": [
    {
     "name": "stdout",
     "output_type": "stream",
     "text": [
      "-----------------------------------------------------------------------\n",
      "      Layer (type)         Input Shape         Param #     Tr. Param #\n",
      "=======================================================================\n",
      "          Linear-1            [1, 192]          24,704          24,704\n",
      "          Linear-2            [1, 192]           1,930           1,930\n",
      "      LogSoftmax-3             [1, 10]               0               0\n",
      "=======================================================================\n",
      "Total params: 26,634\n",
      "Trainable params: 26,634\n",
      "Non-trainable params: 0\n",
      "-----------------------------------------------------------------------\n"
     ]
    }
   ],
   "source": [
    "# Summary of the RNN model:\n",
    "print(summary(model, torch.zeros(1, 64), model.initHidden(), show_input=True, show_hierarchical=False))"
   ]
  },
  {
   "cell_type": "markdown",
   "metadata": {},
   "source": [
    "## Analyze our performance on the test set:"
   ]
  },
  {
   "cell_type": "code",
   "execution_count": 307,
   "metadata": {},
   "outputs": [
    {
     "name": "stdout",
     "output_type": "stream",
     "text": [
      "Epoch: Final score - Loss of: 86.57075736026636 - Accuracy of: 89.48545837402344\n"
     ]
    }
   ],
   "source": [
    "test_result = evaluation(test_loader, trained_model, 'Final score', loss_function)"
   ]
  },
  {
   "cell_type": "code",
   "execution_count": null,
   "metadata": {},
   "outputs": [],
   "source": []
  }
 ],
 "metadata": {
  "kernelspec": {
   "display_name": "Python 3",
   "language": "python",
   "name": "python3"
  },
  "language_info": {
   "codemirror_mode": {
    "name": "ipython",
    "version": 3
   },
   "file_extension": ".py",
   "mimetype": "text/x-python",
   "name": "python",
   "nbconvert_exporter": "python",
   "pygments_lexer": "ipython3",
   "version": "3.8.5"
  }
 },
 "nbformat": 4,
 "nbformat_minor": 4
}
